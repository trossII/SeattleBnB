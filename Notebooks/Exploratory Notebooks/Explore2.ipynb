{
 "cells": [
  {
   "cell_type": "markdown",
   "metadata": {},
   "source": [
    "# Second Exploratory Notebook"
   ]
  },
  {
   "cell_type": "markdown",
   "metadata": {},
   "source": [
    "## Used for Data Exploration of Full Listings Data"
   ]
  },
  {
   "cell_type": "code",
   "execution_count": 2,
   "metadata": {},
   "outputs": [],
   "source": [
    "import pandas as pd\n",
    "import numpy as np\n",
    "import nltk\n",
    "import sklearn\n",
    "import string, re\n",
    "import urllib\n",
    "import seaborn as sbn\n",
    "from sklearn.model_selection import train_test_split, GridSearchCV\n",
    "from sklearn.preprocessing import OneHotEncoder,StandardScaler,LabelEncoder\n",
    "from sklearn.feature_extraction.text import TfidfVectorizer\n",
    "from sklearn.ensemble import RandomForestRegressor\n",
    "from sklearn.decomposition import PCA\n",
    "from nltk.corpus import stopwords"
   ]
  },
  {
   "cell_type": "code",
   "execution_count": 3,
   "metadata": {},
   "outputs": [],
   "source": [
    "data = pd.read_csv('../../Data/2019/listings122019long.csv')"
   ]
  },
  {
   "cell_type": "code",
   "execution_count": 4,
   "metadata": {},
   "outputs": [
    {
     "data": {
      "text/html": [
       "<div>\n",
       "<style scoped>\n",
       "    .dataframe tbody tr th:only-of-type {\n",
       "        vertical-align: middle;\n",
       "    }\n",
       "\n",
       "    .dataframe tbody tr th {\n",
       "        vertical-align: top;\n",
       "    }\n",
       "\n",
       "    .dataframe thead th {\n",
       "        text-align: right;\n",
       "    }\n",
       "</style>\n",
       "<table border=\"1\" class=\"dataframe\">\n",
       "  <thead>\n",
       "    <tr style=\"text-align: right;\">\n",
       "      <th></th>\n",
       "      <th>id</th>\n",
       "      <th>listing_url</th>\n",
       "      <th>scrape_id</th>\n",
       "      <th>last_scraped</th>\n",
       "      <th>name</th>\n",
       "      <th>summary</th>\n",
       "      <th>space</th>\n",
       "      <th>description</th>\n",
       "      <th>experiences_offered</th>\n",
       "      <th>neighborhood_overview</th>\n",
       "      <th>...</th>\n",
       "      <th>instant_bookable</th>\n",
       "      <th>is_business_travel_ready</th>\n",
       "      <th>cancellation_policy</th>\n",
       "      <th>require_guest_profile_picture</th>\n",
       "      <th>require_guest_phone_verification</th>\n",
       "      <th>calculated_host_listings_count</th>\n",
       "      <th>calculated_host_listings_count_entire_homes</th>\n",
       "      <th>calculated_host_listings_count_private_rooms</th>\n",
       "      <th>calculated_host_listings_count_shared_rooms</th>\n",
       "      <th>reviews_per_month</th>\n",
       "    </tr>\n",
       "  </thead>\n",
       "  <tbody>\n",
       "    <tr>\n",
       "      <td>0</td>\n",
       "      <td>2318</td>\n",
       "      <td>https://www.airbnb.com/rooms/2318</td>\n",
       "      <td>20191219173821</td>\n",
       "      <td>2019-12-20</td>\n",
       "      <td>Casa Madrona - Urban Oasis 1 block from the park!</td>\n",
       "      <td>Gorgeous, architect remodeled, Dutch Colonial ...</td>\n",
       "      <td>This beautiful, gracious home has been complet...</td>\n",
       "      <td>Gorgeous, architect remodeled, Dutch Colonial ...</td>\n",
       "      <td>none</td>\n",
       "      <td>Madrona is a hidden gem of a neighborhood. It ...</td>\n",
       "      <td>...</td>\n",
       "      <td>t</td>\n",
       "      <td>f</td>\n",
       "      <td>strict_14_with_grace_period</td>\n",
       "      <td>f</td>\n",
       "      <td>f</td>\n",
       "      <td>2</td>\n",
       "      <td>2</td>\n",
       "      <td>0</td>\n",
       "      <td>0</td>\n",
       "      <td>0.23</td>\n",
       "    </tr>\n",
       "    <tr>\n",
       "      <td>1</td>\n",
       "      <td>5682</td>\n",
       "      <td>https://www.airbnb.com/rooms/5682</td>\n",
       "      <td>20191219173821</td>\n",
       "      <td>2019-12-20</td>\n",
       "      <td>Cozy Studio, min. to downtown -WiFi</td>\n",
       "      <td>The Cozy Studio is a perfect launchpad for you...</td>\n",
       "      <td>Hello fellow travelers, Save some money and ha...</td>\n",
       "      <td>The Cozy Studio is a perfect launchpad for you...</td>\n",
       "      <td>none</td>\n",
       "      <td>NaN</td>\n",
       "      <td>...</td>\n",
       "      <td>f</td>\n",
       "      <td>f</td>\n",
       "      <td>strict_14_with_grace_period</td>\n",
       "      <td>f</td>\n",
       "      <td>t</td>\n",
       "      <td>1</td>\n",
       "      <td>1</td>\n",
       "      <td>0</td>\n",
       "      <td>0</td>\n",
       "      <td>3.89</td>\n",
       "    </tr>\n",
       "    <tr>\n",
       "      <td>2</td>\n",
       "      <td>6606</td>\n",
       "      <td>https://www.airbnb.com/rooms/6606</td>\n",
       "      <td>20191219173821</td>\n",
       "      <td>2019-12-19</td>\n",
       "      <td>Fab, private seattle urban cottage!</td>\n",
       "      <td>This tiny cottage is only 15x10, but it has ev...</td>\n",
       "      <td>Soo centrally located, this is a little house ...</td>\n",
       "      <td>This tiny cottage is only 15x10, but it has ev...</td>\n",
       "      <td>none</td>\n",
       "      <td>A peaceful yet highly accessible neighborhood,...</td>\n",
       "      <td>...</td>\n",
       "      <td>f</td>\n",
       "      <td>f</td>\n",
       "      <td>strict_14_with_grace_period</td>\n",
       "      <td>f</td>\n",
       "      <td>f</td>\n",
       "      <td>3</td>\n",
       "      <td>3</td>\n",
       "      <td>0</td>\n",
       "      <td>0</td>\n",
       "      <td>1.18</td>\n",
       "    </tr>\n",
       "    <tr>\n",
       "      <td>3</td>\n",
       "      <td>9419</td>\n",
       "      <td>https://www.airbnb.com/rooms/9419</td>\n",
       "      <td>20191219173821</td>\n",
       "      <td>2019-12-20</td>\n",
       "      <td>Glorious sun room w/ memory foambed</td>\n",
       "      <td>This beautiful double room features a magical ...</td>\n",
       "      <td>Our new Sunny space has a private room from th...</td>\n",
       "      <td>This beautiful double room features a magical ...</td>\n",
       "      <td>none</td>\n",
       "      <td>Lots of restaurants (see our guide book) bars,...</td>\n",
       "      <td>...</td>\n",
       "      <td>f</td>\n",
       "      <td>f</td>\n",
       "      <td>moderate</td>\n",
       "      <td>t</td>\n",
       "      <td>t</td>\n",
       "      <td>7</td>\n",
       "      <td>0</td>\n",
       "      <td>7</td>\n",
       "      <td>0</td>\n",
       "      <td>1.29</td>\n",
       "    </tr>\n",
       "    <tr>\n",
       "      <td>4</td>\n",
       "      <td>9460</td>\n",
       "      <td>https://www.airbnb.com/rooms/9460</td>\n",
       "      <td>20191219173821</td>\n",
       "      <td>2019-12-20</td>\n",
       "      <td>Downtown Convention Center B&amp;B -- Free Minibar</td>\n",
       "      <td>Take up a glass of wine and unwind on one of t...</td>\n",
       "      <td>Greetings from Seattle. Thanks for considering...</td>\n",
       "      <td>Take up a glass of wine and unwind on one of t...</td>\n",
       "      <td>none</td>\n",
       "      <td>This is where Downtown meets Capitol Hill, wit...</td>\n",
       "      <td>...</td>\n",
       "      <td>t</td>\n",
       "      <td>f</td>\n",
       "      <td>moderate</td>\n",
       "      <td>f</td>\n",
       "      <td>f</td>\n",
       "      <td>4</td>\n",
       "      <td>3</td>\n",
       "      <td>1</td>\n",
       "      <td>0</td>\n",
       "      <td>3.64</td>\n",
       "    </tr>\n",
       "  </tbody>\n",
       "</table>\n",
       "<p>5 rows × 106 columns</p>\n",
       "</div>"
      ],
      "text/plain": [
       "     id                        listing_url       scrape_id last_scraped  \\\n",
       "0  2318  https://www.airbnb.com/rooms/2318  20191219173821   2019-12-20   \n",
       "1  5682  https://www.airbnb.com/rooms/5682  20191219173821   2019-12-20   \n",
       "2  6606  https://www.airbnb.com/rooms/6606  20191219173821   2019-12-19   \n",
       "3  9419  https://www.airbnb.com/rooms/9419  20191219173821   2019-12-20   \n",
       "4  9460  https://www.airbnb.com/rooms/9460  20191219173821   2019-12-20   \n",
       "\n",
       "                                                name  \\\n",
       "0  Casa Madrona - Urban Oasis 1 block from the park!   \n",
       "1                Cozy Studio, min. to downtown -WiFi   \n",
       "2                Fab, private seattle urban cottage!   \n",
       "3                Glorious sun room w/ memory foambed   \n",
       "4     Downtown Convention Center B&B -- Free Minibar   \n",
       "\n",
       "                                             summary  \\\n",
       "0  Gorgeous, architect remodeled, Dutch Colonial ...   \n",
       "1  The Cozy Studio is a perfect launchpad for you...   \n",
       "2  This tiny cottage is only 15x10, but it has ev...   \n",
       "3  This beautiful double room features a magical ...   \n",
       "4  Take up a glass of wine and unwind on one of t...   \n",
       "\n",
       "                                               space  \\\n",
       "0  This beautiful, gracious home has been complet...   \n",
       "1  Hello fellow travelers, Save some money and ha...   \n",
       "2  Soo centrally located, this is a little house ...   \n",
       "3  Our new Sunny space has a private room from th...   \n",
       "4  Greetings from Seattle. Thanks for considering...   \n",
       "\n",
       "                                         description experiences_offered  \\\n",
       "0  Gorgeous, architect remodeled, Dutch Colonial ...                none   \n",
       "1  The Cozy Studio is a perfect launchpad for you...                none   \n",
       "2  This tiny cottage is only 15x10, but it has ev...                none   \n",
       "3  This beautiful double room features a magical ...                none   \n",
       "4  Take up a glass of wine and unwind on one of t...                none   \n",
       "\n",
       "                               neighborhood_overview  ... instant_bookable  \\\n",
       "0  Madrona is a hidden gem of a neighborhood. It ...  ...                t   \n",
       "1                                                NaN  ...                f   \n",
       "2  A peaceful yet highly accessible neighborhood,...  ...                f   \n",
       "3  Lots of restaurants (see our guide book) bars,...  ...                f   \n",
       "4  This is where Downtown meets Capitol Hill, wit...  ...                t   \n",
       "\n",
       "  is_business_travel_ready          cancellation_policy  \\\n",
       "0                        f  strict_14_with_grace_period   \n",
       "1                        f  strict_14_with_grace_period   \n",
       "2                        f  strict_14_with_grace_period   \n",
       "3                        f                     moderate   \n",
       "4                        f                     moderate   \n",
       "\n",
       "  require_guest_profile_picture require_guest_phone_verification  \\\n",
       "0                             f                                f   \n",
       "1                             f                                t   \n",
       "2                             f                                f   \n",
       "3                             t                                t   \n",
       "4                             f                                f   \n",
       "\n",
       "   calculated_host_listings_count  \\\n",
       "0                               2   \n",
       "1                               1   \n",
       "2                               3   \n",
       "3                               7   \n",
       "4                               4   \n",
       "\n",
       "   calculated_host_listings_count_entire_homes  \\\n",
       "0                                            2   \n",
       "1                                            1   \n",
       "2                                            3   \n",
       "3                                            0   \n",
       "4                                            3   \n",
       "\n",
       "  calculated_host_listings_count_private_rooms  \\\n",
       "0                                            0   \n",
       "1                                            0   \n",
       "2                                            0   \n",
       "3                                            7   \n",
       "4                                            1   \n",
       "\n",
       "   calculated_host_listings_count_shared_rooms  reviews_per_month  \n",
       "0                                            0               0.23  \n",
       "1                                            0               3.89  \n",
       "2                                            0               1.18  \n",
       "3                                            0               1.29  \n",
       "4                                            0               3.64  \n",
       "\n",
       "[5 rows x 106 columns]"
      ]
     },
     "execution_count": 4,
     "metadata": {},
     "output_type": "execute_result"
    }
   ],
   "source": [
    "data.head()"
   ]
  },
  {
   "cell_type": "code",
   "execution_count": 5,
   "metadata": {},
   "outputs": [],
   "source": [
    "data1 = data.drop(columns=['listing_url','scrape_id','last_scraped','summary','space','description','experiences_offered',\n",
    "                           'neighborhood_overview','notes','transit','access','interaction','house_rules',\n",
    "                           'thumbnail_url','medium_url','picture_url','xl_picture_url','host_id','host_url',\n",
    "                           'host_name','host_since', 'host_location','host_about','host_response_time','host_response_rate',\n",
    "                           'host_acceptance_rate', 'host_thumbnail_url','host_picture_url', 'host_neighbourhood',\n",
    "                           'host_listings_count','host_total_listings_count', 'host_verifications','host_has_profile_pic',\n",
    "                           'host_identity_verified','street', 'city','state','zipcode','market','country_code',\n",
    "                           'country', 'is_location_exact','bed_type','amenities','square_feet','weekly_price',\n",
    "                           'monthly_price','security_deposit','guests_included','extra_people','maximum_nights',\n",
    "                           'minimum_minimum_nights','maximum_minimum_nights', 'minimum_maximum_nights', 'maximum_maximum_nights',\n",
    "                           'minimum_nights_avg_ntm', 'maximum_nights_avg_ntm', 'calendar_updated', 'has_availability',\n",
    "                           'availability_30', 'availability_60', 'availability_90', 'availability_365', 'calendar_last_scraped','first_review',\n",
    "                           'last_review','review_scores_accuracy', 'review_scores_cleanliness', 'review_scores_checkin',\n",
    "                           'review_scores_communication', 'review_scores_location','requires_license', 'license',\n",
    "                           'jurisdiction_names', 'instant_bookable', 'is_business_travel_ready', 'cancellation_policy',\n",
    "                           'require_guest_profile_picture', 'require_guest_phone_verification', 'calculated_host_listings_count',\n",
    "                           'calculated_host_listings_count_entire_homes', 'calculated_host_listings_count_private_rooms',\n",
    "                           'calculated_host_listings_count_shared_rooms', 'neighbourhood','smart_location','id','property_type'\n",
    "                          ])"
   ]
  },
  {
   "cell_type": "code",
   "execution_count": 6,
   "metadata": {},
   "outputs": [
    {
     "data": {
      "text/html": [
       "<div>\n",
       "<style scoped>\n",
       "    .dataframe tbody tr th:only-of-type {\n",
       "        vertical-align: middle;\n",
       "    }\n",
       "\n",
       "    .dataframe tbody tr th {\n",
       "        vertical-align: top;\n",
       "    }\n",
       "\n",
       "    .dataframe thead th {\n",
       "        text-align: right;\n",
       "    }\n",
       "</style>\n",
       "<table border=\"1\" class=\"dataframe\">\n",
       "  <thead>\n",
       "    <tr style=\"text-align: right;\">\n",
       "      <th></th>\n",
       "      <th>latitude</th>\n",
       "      <th>longitude</th>\n",
       "      <th>accommodates</th>\n",
       "      <th>bathrooms</th>\n",
       "      <th>bedrooms</th>\n",
       "      <th>beds</th>\n",
       "      <th>minimum_nights</th>\n",
       "      <th>number_of_reviews</th>\n",
       "      <th>number_of_reviews_ltm</th>\n",
       "      <th>review_scores_rating</th>\n",
       "      <th>review_scores_value</th>\n",
       "      <th>reviews_per_month</th>\n",
       "    </tr>\n",
       "  </thead>\n",
       "  <tbody>\n",
       "    <tr>\n",
       "      <td>count</td>\n",
       "      <td>7968.000000</td>\n",
       "      <td>7968.000000</td>\n",
       "      <td>7968.000000</td>\n",
       "      <td>7967.000000</td>\n",
       "      <td>7961.000000</td>\n",
       "      <td>7964.000000</td>\n",
       "      <td>7968.000000</td>\n",
       "      <td>7968.000000</td>\n",
       "      <td>7968.000000</td>\n",
       "      <td>6809.000000</td>\n",
       "      <td>6809.000000</td>\n",
       "      <td>6858.000000</td>\n",
       "    </tr>\n",
       "    <tr>\n",
       "      <td>mean</td>\n",
       "      <td>47.624916</td>\n",
       "      <td>-122.333363</td>\n",
       "      <td>3.662525</td>\n",
       "      <td>1.315175</td>\n",
       "      <td>1.386760</td>\n",
       "      <td>1.912356</td>\n",
       "      <td>14.024096</td>\n",
       "      <td>52.698419</td>\n",
       "      <td>18.046812</td>\n",
       "      <td>95.062417</td>\n",
       "      <td>9.504186</td>\n",
       "      <td>2.309240</td>\n",
       "    </tr>\n",
       "    <tr>\n",
       "      <td>std</td>\n",
       "      <td>0.045517</td>\n",
       "      <td>0.031535</td>\n",
       "      <td>2.317617</td>\n",
       "      <td>0.660248</td>\n",
       "      <td>1.001517</td>\n",
       "      <td>1.601943</td>\n",
       "      <td>18.687884</td>\n",
       "      <td>78.504025</td>\n",
       "      <td>24.284183</td>\n",
       "      <td>7.336431</td>\n",
       "      <td>0.793086</td>\n",
       "      <td>2.200196</td>\n",
       "    </tr>\n",
       "    <tr>\n",
       "      <td>min</td>\n",
       "      <td>47.495870</td>\n",
       "      <td>-122.419250</td>\n",
       "      <td>1.000000</td>\n",
       "      <td>0.000000</td>\n",
       "      <td>0.000000</td>\n",
       "      <td>0.000000</td>\n",
       "      <td>1.000000</td>\n",
       "      <td>0.000000</td>\n",
       "      <td>0.000000</td>\n",
       "      <td>20.000000</td>\n",
       "      <td>2.000000</td>\n",
       "      <td>0.000000</td>\n",
       "    </tr>\n",
       "    <tr>\n",
       "      <td>25%</td>\n",
       "      <td>47.605520</td>\n",
       "      <td>-122.353032</td>\n",
       "      <td>2.000000</td>\n",
       "      <td>1.000000</td>\n",
       "      <td>1.000000</td>\n",
       "      <td>1.000000</td>\n",
       "      <td>2.000000</td>\n",
       "      <td>3.000000</td>\n",
       "      <td>0.000000</td>\n",
       "      <td>94.000000</td>\n",
       "      <td>9.000000</td>\n",
       "      <td>0.490000</td>\n",
       "    </tr>\n",
       "    <tr>\n",
       "      <td>50%</td>\n",
       "      <td>47.619690</td>\n",
       "      <td>-122.332675</td>\n",
       "      <td>3.000000</td>\n",
       "      <td>1.000000</td>\n",
       "      <td>1.000000</td>\n",
       "      <td>1.000000</td>\n",
       "      <td>3.000000</td>\n",
       "      <td>19.000000</td>\n",
       "      <td>7.000000</td>\n",
       "      <td>97.000000</td>\n",
       "      <td>10.000000</td>\n",
       "      <td>1.650000</td>\n",
       "    </tr>\n",
       "    <tr>\n",
       "      <td>75%</td>\n",
       "      <td>47.658973</td>\n",
       "      <td>-122.311880</td>\n",
       "      <td>4.000000</td>\n",
       "      <td>1.500000</td>\n",
       "      <td>2.000000</td>\n",
       "      <td>2.000000</td>\n",
       "      <td>30.000000</td>\n",
       "      <td>70.000000</td>\n",
       "      <td>28.000000</td>\n",
       "      <td>99.000000</td>\n",
       "      <td>10.000000</td>\n",
       "      <td>3.570000</td>\n",
       "    </tr>\n",
       "    <tr>\n",
       "      <td>max</td>\n",
       "      <td>47.735930</td>\n",
       "      <td>-122.236720</td>\n",
       "      <td>28.000000</td>\n",
       "      <td>16.000000</td>\n",
       "      <td>8.000000</td>\n",
       "      <td>49.000000</td>\n",
       "      <td>400.000000</td>\n",
       "      <td>800.000000</td>\n",
       "      <td>217.000000</td>\n",
       "      <td>100.000000</td>\n",
       "      <td>10.000000</td>\n",
       "      <td>15.880000</td>\n",
       "    </tr>\n",
       "  </tbody>\n",
       "</table>\n",
       "</div>"
      ],
      "text/plain": [
       "          latitude    longitude  accommodates    bathrooms     bedrooms  \\\n",
       "count  7968.000000  7968.000000   7968.000000  7967.000000  7961.000000   \n",
       "mean     47.624916  -122.333363      3.662525     1.315175     1.386760   \n",
       "std       0.045517     0.031535      2.317617     0.660248     1.001517   \n",
       "min      47.495870  -122.419250      1.000000     0.000000     0.000000   \n",
       "25%      47.605520  -122.353032      2.000000     1.000000     1.000000   \n",
       "50%      47.619690  -122.332675      3.000000     1.000000     1.000000   \n",
       "75%      47.658973  -122.311880      4.000000     1.500000     2.000000   \n",
       "max      47.735930  -122.236720     28.000000    16.000000     8.000000   \n",
       "\n",
       "              beds  minimum_nights  number_of_reviews  number_of_reviews_ltm  \\\n",
       "count  7964.000000     7968.000000        7968.000000            7968.000000   \n",
       "mean      1.912356       14.024096          52.698419              18.046812   \n",
       "std       1.601943       18.687884          78.504025              24.284183   \n",
       "min       0.000000        1.000000           0.000000               0.000000   \n",
       "25%       1.000000        2.000000           3.000000               0.000000   \n",
       "50%       1.000000        3.000000          19.000000               7.000000   \n",
       "75%       2.000000       30.000000          70.000000              28.000000   \n",
       "max      49.000000      400.000000         800.000000             217.000000   \n",
       "\n",
       "       review_scores_rating  review_scores_value  reviews_per_month  \n",
       "count           6809.000000          6809.000000        6858.000000  \n",
       "mean              95.062417             9.504186           2.309240  \n",
       "std                7.336431             0.793086           2.200196  \n",
       "min               20.000000             2.000000           0.000000  \n",
       "25%               94.000000             9.000000           0.490000  \n",
       "50%               97.000000            10.000000           1.650000  \n",
       "75%               99.000000            10.000000           3.570000  \n",
       "max              100.000000            10.000000          15.880000  "
      ]
     },
     "execution_count": 6,
     "metadata": {},
     "output_type": "execute_result"
    }
   ],
   "source": [
    "data1.describe()"
   ]
  },
  {
   "cell_type": "code",
   "execution_count": 7,
   "metadata": {},
   "outputs": [
    {
     "data": {
      "text/plain": [
       "Index(['name', 'host_is_superhost', 'neighbourhood_cleansed',\n",
       "       'neighbourhood_group_cleansed', 'latitude', 'longitude', 'room_type',\n",
       "       'accommodates', 'bathrooms', 'bedrooms', 'beds', 'price',\n",
       "       'cleaning_fee', 'minimum_nights', 'number_of_reviews',\n",
       "       'number_of_reviews_ltm', 'review_scores_rating', 'review_scores_value',\n",
       "       'reviews_per_month'],\n",
       "      dtype='object')"
      ]
     },
     "execution_count": 7,
     "metadata": {},
     "output_type": "execute_result"
    }
   ],
   "source": [
    "data1.columns"
   ]
  },
  {
   "cell_type": "code",
   "execution_count": 8,
   "metadata": {},
   "outputs": [
    {
     "data": {
      "text/html": [
       "<div>\n",
       "<style scoped>\n",
       "    .dataframe tbody tr th:only-of-type {\n",
       "        vertical-align: middle;\n",
       "    }\n",
       "\n",
       "    .dataframe tbody tr th {\n",
       "        vertical-align: top;\n",
       "    }\n",
       "\n",
       "    .dataframe thead th {\n",
       "        text-align: right;\n",
       "    }\n",
       "</style>\n",
       "<table border=\"1\" class=\"dataframe\">\n",
       "  <thead>\n",
       "    <tr style=\"text-align: right;\">\n",
       "      <th></th>\n",
       "      <th>name</th>\n",
       "      <th>host_is_superhost</th>\n",
       "      <th>neighbourhood_cleansed</th>\n",
       "      <th>neighbourhood_group_cleansed</th>\n",
       "      <th>latitude</th>\n",
       "      <th>longitude</th>\n",
       "      <th>room_type</th>\n",
       "      <th>accommodates</th>\n",
       "      <th>bathrooms</th>\n",
       "      <th>bedrooms</th>\n",
       "      <th>beds</th>\n",
       "      <th>price</th>\n",
       "      <th>cleaning_fee</th>\n",
       "      <th>minimum_nights</th>\n",
       "      <th>number_of_reviews</th>\n",
       "      <th>number_of_reviews_ltm</th>\n",
       "      <th>review_scores_rating</th>\n",
       "      <th>review_scores_value</th>\n",
       "      <th>reviews_per_month</th>\n",
       "    </tr>\n",
       "  </thead>\n",
       "  <tbody>\n",
       "    <tr>\n",
       "      <td>0</td>\n",
       "      <td>Casa Madrona - Urban Oasis 1 block from the park!</td>\n",
       "      <td>t</td>\n",
       "      <td>Madrona</td>\n",
       "      <td>Central Area</td>\n",
       "      <td>47.61082</td>\n",
       "      <td>-122.29082</td>\n",
       "      <td>Entire home/apt</td>\n",
       "      <td>9</td>\n",
       "      <td>2.5</td>\n",
       "      <td>4.0</td>\n",
       "      <td>4.0</td>\n",
       "      <td>$296.00</td>\n",
       "      <td>$250.00</td>\n",
       "      <td>7</td>\n",
       "      <td>31</td>\n",
       "      <td>10</td>\n",
       "      <td>100.0</td>\n",
       "      <td>10.0</td>\n",
       "      <td>0.23</td>\n",
       "    </tr>\n",
       "    <tr>\n",
       "      <td>1</td>\n",
       "      <td>Cozy Studio, min. to downtown -WiFi</td>\n",
       "      <td>f</td>\n",
       "      <td>South Delridge</td>\n",
       "      <td>Delridge</td>\n",
       "      <td>47.52398</td>\n",
       "      <td>-122.35989</td>\n",
       "      <td>Entire home/apt</td>\n",
       "      <td>2</td>\n",
       "      <td>1.0</td>\n",
       "      <td>0.0</td>\n",
       "      <td>1.0</td>\n",
       "      <td>$48.00</td>\n",
       "      <td>$45.00</td>\n",
       "      <td>3</td>\n",
       "      <td>462</td>\n",
       "      <td>0</td>\n",
       "      <td>95.0</td>\n",
       "      <td>10.0</td>\n",
       "      <td>3.89</td>\n",
       "    </tr>\n",
       "    <tr>\n",
       "      <td>2</td>\n",
       "      <td>Fab, private seattle urban cottage!</td>\n",
       "      <td>f</td>\n",
       "      <td>Wallingford</td>\n",
       "      <td>Other neighborhoods</td>\n",
       "      <td>47.65411</td>\n",
       "      <td>-122.33761</td>\n",
       "      <td>Entire home/apt</td>\n",
       "      <td>2</td>\n",
       "      <td>1.0</td>\n",
       "      <td>1.0</td>\n",
       "      <td>1.0</td>\n",
       "      <td>$90.00</td>\n",
       "      <td>$40.00</td>\n",
       "      <td>30</td>\n",
       "      <td>150</td>\n",
       "      <td>16</td>\n",
       "      <td>92.0</td>\n",
       "      <td>9.0</td>\n",
       "      <td>1.18</td>\n",
       "    </tr>\n",
       "    <tr>\n",
       "      <td>3</td>\n",
       "      <td>Glorious sun room w/ memory foambed</td>\n",
       "      <td>t</td>\n",
       "      <td>Georgetown</td>\n",
       "      <td>Other neighborhoods</td>\n",
       "      <td>47.55062</td>\n",
       "      <td>-122.32014</td>\n",
       "      <td>Private room</td>\n",
       "      <td>2</td>\n",
       "      <td>3.0</td>\n",
       "      <td>1.0</td>\n",
       "      <td>1.0</td>\n",
       "      <td>$62.00</td>\n",
       "      <td>$0.00</td>\n",
       "      <td>2</td>\n",
       "      <td>147</td>\n",
       "      <td>17</td>\n",
       "      <td>93.0</td>\n",
       "      <td>10.0</td>\n",
       "      <td>1.29</td>\n",
       "    </tr>\n",
       "    <tr>\n",
       "      <td>4</td>\n",
       "      <td>Downtown Convention Center B&amp;B -- Free Minibar</td>\n",
       "      <td>t</td>\n",
       "      <td>First Hill</td>\n",
       "      <td>Downtown</td>\n",
       "      <td>47.61265</td>\n",
       "      <td>-122.32936</td>\n",
       "      <td>Private room</td>\n",
       "      <td>2</td>\n",
       "      <td>1.0</td>\n",
       "      <td>1.0</td>\n",
       "      <td>1.0</td>\n",
       "      <td>$79.00</td>\n",
       "      <td>$45.00</td>\n",
       "      <td>3</td>\n",
       "      <td>457</td>\n",
       "      <td>54</td>\n",
       "      <td>98.0</td>\n",
       "      <td>10.0</td>\n",
       "      <td>3.64</td>\n",
       "    </tr>\n",
       "  </tbody>\n",
       "</table>\n",
       "</div>"
      ],
      "text/plain": [
       "                                                name host_is_superhost  \\\n",
       "0  Casa Madrona - Urban Oasis 1 block from the park!                 t   \n",
       "1                Cozy Studio, min. to downtown -WiFi                 f   \n",
       "2                Fab, private seattle urban cottage!                 f   \n",
       "3                Glorious sun room w/ memory foambed                 t   \n",
       "4     Downtown Convention Center B&B -- Free Minibar                 t   \n",
       "\n",
       "  neighbourhood_cleansed neighbourhood_group_cleansed  latitude  longitude  \\\n",
       "0                Madrona                 Central Area  47.61082 -122.29082   \n",
       "1         South Delridge                     Delridge  47.52398 -122.35989   \n",
       "2            Wallingford          Other neighborhoods  47.65411 -122.33761   \n",
       "3             Georgetown          Other neighborhoods  47.55062 -122.32014   \n",
       "4             First Hill                     Downtown  47.61265 -122.32936   \n",
       "\n",
       "         room_type  accommodates  bathrooms  bedrooms  beds    price  \\\n",
       "0  Entire home/apt             9        2.5       4.0   4.0  $296.00   \n",
       "1  Entire home/apt             2        1.0       0.0   1.0   $48.00   \n",
       "2  Entire home/apt             2        1.0       1.0   1.0   $90.00   \n",
       "3     Private room             2        3.0       1.0   1.0   $62.00   \n",
       "4     Private room             2        1.0       1.0   1.0   $79.00   \n",
       "\n",
       "  cleaning_fee  minimum_nights  number_of_reviews  number_of_reviews_ltm  \\\n",
       "0      $250.00               7                 31                     10   \n",
       "1       $45.00               3                462                      0   \n",
       "2       $40.00              30                150                     16   \n",
       "3        $0.00               2                147                     17   \n",
       "4       $45.00               3                457                     54   \n",
       "\n",
       "   review_scores_rating  review_scores_value  reviews_per_month  \n",
       "0                 100.0                 10.0               0.23  \n",
       "1                  95.0                 10.0               3.89  \n",
       "2                  92.0                  9.0               1.18  \n",
       "3                  93.0                 10.0               1.29  \n",
       "4                  98.0                 10.0               3.64  "
      ]
     },
     "execution_count": 8,
     "metadata": {},
     "output_type": "execute_result"
    }
   ],
   "source": [
    "data1.head()"
   ]
  },
  {
   "cell_type": "markdown",
   "metadata": {},
   "source": [
    "# Change Price to Numerical and Get rid of NaNs in data"
   ]
  },
  {
   "cell_type": "code",
   "execution_count": 242,
   "metadata": {},
   "outputs": [],
   "source": [
    "data1['price'] = data1['price'].str.extract('(\\d+)', expand=False).astype('float')"
   ]
  },
  {
   "cell_type": "code",
   "execution_count": 243,
   "metadata": {},
   "outputs": [],
   "source": [
    "data1['cleaning_fee'] = data1['cleaning_fee'].str.extract('(\\d+)', expand=False).astype('float')"
   ]
  },
  {
   "cell_type": "code",
   "execution_count": 244,
   "metadata": {},
   "outputs": [],
   "source": [
    "data1['host_is_superhost'] = (data1['host_is_superhost'] == 't').astype('int')"
   ]
  },
  {
   "cell_type": "code",
   "execution_count": 245,
   "metadata": {},
   "outputs": [],
   "source": [
    "data1['reviews_per_month'] = data1['reviews_per_month'].fillna(0)\n",
    "data1['bathrooms'] = data1['bathrooms'].fillna(data1['bathrooms'].mean())\n",
    "data1['bedrooms'] = data1['bedrooms'].fillna(data1['bedrooms'].mean())\n",
    "data1['beds'] = data1['beds'].fillna(data1['beds'].mean())\n",
    "data1['cleaning_fee'] = data1['cleaning_fee'].fillna(data1['cleaning_fee'].mean())\n",
    "data1['review_scores_rating'] = data1['review_scores_rating'].fillna(0)"
   ]
  },
  {
   "cell_type": "code",
   "execution_count": 246,
   "metadata": {},
   "outputs": [],
   "source": [
    "data1['longitude'] = data1['longitude'].round(decimals=4)\n",
    "data1['latitude'] = data1['latitude'].round(decimals=4)"
   ]
  },
  {
   "cell_type": "code",
   "execution_count": 247,
   "metadata": {},
   "outputs": [],
   "source": [
    "data1 = data1[data1.minimum_nights<31]"
   ]
  },
  {
   "cell_type": "markdown",
   "metadata": {},
   "source": [
    "# Vectorize Categorical Variables"
   ]
  },
  {
   "cell_type": "code",
   "execution_count": 210,
   "metadata": {},
   "outputs": [],
   "source": [
    "ohe_ng = OneHotEncoder(sparse=False)\n",
    "ohe_n = OneHotEncoder(sparse=False)\n",
    "ohe_r = OneHotEncoder(sparse=False)\n",
    "ohe_mn = OneHotEncoder(sparse=False)\n",
    "neigh_group = ohe_ng.fit_transform(data1[['neighbourhood_group_cleansed']])\n",
    "neigh_group_cat = ohe_ng.categories_\n",
    "neigh = ohe_n.fit_transform(data1[['neighbourhood_cleansed']])\n",
    "neigh_cat = ohe_n.categories_\n",
    "room = ohe_r.fit_transform(data1[['room_type']])\n",
    "room_cat = ohe_r.categories_\n",
    "# prop = ohe.fit_transform(data1[['room_type']])\n",
    "# prop_cat = ohe.categories_\n",
    "minimum = ohe_mn.fit_transform(data1[['minimum_nights']])\n",
    "minimum_cat = ohe_mn.categories_"
   ]
  },
  {
   "cell_type": "code",
   "execution_count": 211,
   "metadata": {},
   "outputs": [
    {
     "data": {
      "text/plain": [
       "[array(['Ballard', 'Beacon Hill', 'Capitol Hill', 'Cascade',\n",
       "        'Central Area', 'Delridge', 'Downtown', 'Interbay', 'Lake City',\n",
       "        'Magnolia', 'Northgate', 'Other neighborhoods', 'Queen Anne',\n",
       "        'Rainier Valley', 'Seward Park', 'University District',\n",
       "        'West Seattle'], dtype=object)]"
      ]
     },
     "execution_count": 211,
     "metadata": {},
     "output_type": "execute_result"
    }
   ],
   "source": [
    "list(neigh_group_cat)"
   ]
  },
  {
   "cell_type": "code",
   "execution_count": 212,
   "metadata": {},
   "outputs": [
    {
     "data": {
      "text/plain": [
       "89"
      ]
     },
     "execution_count": 212,
     "metadata": {},
     "output_type": "execute_result"
    }
   ],
   "source": [
    "# ohe_ng.transform([['Northgate']])\n",
    "len(list(neigh_cat[0]))\n",
    "# np.array([['Ballard']])"
   ]
  },
  {
   "cell_type": "code",
   "execution_count": 213,
   "metadata": {},
   "outputs": [],
   "source": [
    "# import pickle\n",
    "# pickle.dump(ohe_ng, open('ohe_ng.sav', 'wb'))\n",
    "# pickle.dump(ohe_n, open('ohe_n.sav', 'wb'))\n",
    "# pickle.dump(ohe_r, open('ohe_r.sav', 'wb'))\n",
    "# pickle.dump(ohe_mn, open('ohe_mn.sav', 'wb'))"
   ]
  },
  {
   "cell_type": "code",
   "execution_count": 214,
   "metadata": {},
   "outputs": [],
   "source": [
    "minimum_cat = minimum_cat[0].astype('str')"
   ]
  },
  {
   "cell_type": "code",
   "execution_count": 215,
   "metadata": {},
   "outputs": [],
   "source": [
    "minimum_cat = list(minimum_cat)"
   ]
  },
  {
   "cell_type": "code",
   "execution_count": 216,
   "metadata": {},
   "outputs": [],
   "source": [
    "# new_minimum_cat = [(lambda x : f'minimum_nights: {x})(x) for x in range(len(minimum_cat))]"
   ]
  },
  {
   "cell_type": "code",
   "execution_count": 217,
   "metadata": {},
   "outputs": [],
   "source": [
    "def rename(name_of_columns,pre_addition):\n",
    "    new_list = []\n",
    "    for x in name_of_columns:\n",
    "        for x in x:\n",
    "            new_list.append(pre_addition+ '' + x)\n",
    "    return new_list"
   ]
  },
  {
   "cell_type": "code",
   "execution_count": 218,
   "metadata": {},
   "outputs": [],
   "source": [
    "new_neigh_group_cat = rename(neigh_group_cat,'neighbourhood_group: ')\n",
    "new_neigh_cat = rename(neigh_cat,'neighbourhood: ')\n",
    "new_room_cat = rename(room_cat,'room_type: ')\n",
    "# new_prop_cat = rename(prop_cat, 'property_type: ')"
   ]
  },
  {
   "cell_type": "code",
   "execution_count": 219,
   "metadata": {},
   "outputs": [],
   "source": [
    "# Create categories for neighborhood_group, neighborhood and room_type\n",
    "neigh_group_df = pd.DataFrame(data=neigh_group,columns=new_neigh_group_cat)\n",
    "neigh_df = pd.DataFrame(data=neigh,columns=new_neigh_cat)\n",
    "room_type_df = pd.DataFrame(data=room,columns = new_room_cat)\n",
    "# property_df = pd.DataFrame(data=prop, columns= new_prop_cat)\n",
    "minimum_df = pd.DataFrame(data=minimum,columns=new_minimum_cat)"
   ]
  },
  {
   "cell_type": "markdown",
   "metadata": {},
   "source": [
    "# NLP for Name Category"
   ]
  },
  {
   "cell_type": "code",
   "execution_count": 220,
   "metadata": {},
   "outputs": [],
   "source": [
    "stopwords_list = stopwords.words('english') + list(string.punctuation)\n",
    "vectorizer = TfidfVectorizer(strip_accents='unicode',stop_words=stopwords_list,min_df=60,max_df = 800, ngram_range=(1,3))\n",
    "# get rid of na in name column\n",
    "data1.fillna({'name':''}, inplace=True)\n",
    "tf_idf = vectorizer.fit_transform(data['name'])\n",
    "nlp_name = pd.DataFrame(tf_idf.toarray(), columns=vectorizer.get_feature_names())"
   ]
  },
  {
   "cell_type": "code",
   "execution_count": 221,
   "metadata": {},
   "outputs": [],
   "source": [
    "# import pickle\n",
    "# pickle.dump(tf_idf, open('nlp.sav', 'wb'))"
   ]
  },
  {
   "cell_type": "markdown",
   "metadata": {},
   "source": [
    "# Reconnect DataFrames / Drop Duplicates"
   ]
  },
  {
   "cell_type": "code",
   "execution_count": 222,
   "metadata": {},
   "outputs": [],
   "source": [
    "clean_data = pd.concat([data1,neigh_group_df,neigh_df,room_type_df,nlp_name,minimum_df],axis=1)"
   ]
  },
  {
   "cell_type": "code",
   "execution_count": 223,
   "metadata": {},
   "outputs": [],
   "source": [
    "clean_data = clean_data.drop(columns=['name','neighbourhood_cleansed','minimum_nights',\n",
    "                                      'neighbourhood_group_cleansed','room_type'])"
   ]
  },
  {
   "cell_type": "markdown",
   "metadata": {},
   "source": [
    "# Remove New/ Unsuccessful Properties"
   ]
  },
  {
   "cell_type": "code",
   "execution_count": 224,
   "metadata": {},
   "outputs": [
    {
     "data": {
      "text/html": [
       "<div>\n",
       "<style scoped>\n",
       "    .dataframe tbody tr th:only-of-type {\n",
       "        vertical-align: middle;\n",
       "    }\n",
       "\n",
       "    .dataframe tbody tr th {\n",
       "        vertical-align: top;\n",
       "    }\n",
       "\n",
       "    .dataframe thead th {\n",
       "        text-align: right;\n",
       "    }\n",
       "</style>\n",
       "<table border=\"1\" class=\"dataframe\">\n",
       "  <thead>\n",
       "    <tr style=\"text-align: right;\">\n",
       "      <th></th>\n",
       "      <th>host_is_superhost</th>\n",
       "      <th>latitude</th>\n",
       "      <th>longitude</th>\n",
       "      <th>accommodates</th>\n",
       "      <th>bathrooms</th>\n",
       "      <th>bedrooms</th>\n",
       "      <th>beds</th>\n",
       "      <th>price</th>\n",
       "      <th>cleaning_fee</th>\n",
       "      <th>number_of_reviews</th>\n",
       "      <th>...</th>\n",
       "      <th>minimum_nights: 9</th>\n",
       "      <th>minimum_nights: 10</th>\n",
       "      <th>minimum_nights: 11</th>\n",
       "      <th>minimum_nights: 12</th>\n",
       "      <th>minimum_nights: 13</th>\n",
       "      <th>minimum_nights: 14</th>\n",
       "      <th>minimum_nights: 15</th>\n",
       "      <th>minimum_nights: 16</th>\n",
       "      <th>minimum_nights: 17</th>\n",
       "      <th>minimum_nights: 18</th>\n",
       "    </tr>\n",
       "  </thead>\n",
       "  <tbody>\n",
       "    <tr>\n",
       "      <th>count</th>\n",
       "      <td>7894.000000</td>\n",
       "      <td>7894.000000</td>\n",
       "      <td>7894.000000</td>\n",
       "      <td>7894.000000</td>\n",
       "      <td>7894.000000</td>\n",
       "      <td>7894.000000</td>\n",
       "      <td>7894.000000</td>\n",
       "      <td>7894.000000</td>\n",
       "      <td>7894.000000</td>\n",
       "      <td>7894.000000</td>\n",
       "      <td>...</td>\n",
       "      <td>7894.000000</td>\n",
       "      <td>7894.000000</td>\n",
       "      <td>7894.000000</td>\n",
       "      <td>7894.000000</td>\n",
       "      <td>7894.000000</td>\n",
       "      <td>7894.000000</td>\n",
       "      <td>7894.000000</td>\n",
       "      <td>7894.000000</td>\n",
       "      <td>7894.000000</td>\n",
       "      <td>7894.000000</td>\n",
       "    </tr>\n",
       "    <tr>\n",
       "      <th>mean</th>\n",
       "      <td>0.435394</td>\n",
       "      <td>47.624743</td>\n",
       "      <td>-122.333367</td>\n",
       "      <td>3.668736</td>\n",
       "      <td>1.314583</td>\n",
       "      <td>1.385777</td>\n",
       "      <td>1.912685</td>\n",
       "      <td>157.311376</td>\n",
       "      <td>83.714270</td>\n",
       "      <td>53.036990</td>\n",
       "      <td>...</td>\n",
       "      <td>0.002154</td>\n",
       "      <td>0.001393</td>\n",
       "      <td>0.000127</td>\n",
       "      <td>0.000127</td>\n",
       "      <td>0.000760</td>\n",
       "      <td>0.000760</td>\n",
       "      <td>0.000127</td>\n",
       "      <td>0.001140</td>\n",
       "      <td>0.000380</td>\n",
       "      <td>0.397770</td>\n",
       "    </tr>\n",
       "    <tr>\n",
       "      <th>std</th>\n",
       "      <td>0.495840</td>\n",
       "      <td>0.045522</td>\n",
       "      <td>0.031519</td>\n",
       "      <td>2.321186</td>\n",
       "      <td>0.660163</td>\n",
       "      <td>1.000765</td>\n",
       "      <td>1.605642</td>\n",
       "      <td>153.093786</td>\n",
       "      <td>71.316643</td>\n",
       "      <td>78.742434</td>\n",
       "      <td>...</td>\n",
       "      <td>0.046359</td>\n",
       "      <td>0.037305</td>\n",
       "      <td>0.011255</td>\n",
       "      <td>0.011255</td>\n",
       "      <td>0.027561</td>\n",
       "      <td>0.027561</td>\n",
       "      <td>0.011255</td>\n",
       "      <td>0.033748</td>\n",
       "      <td>0.019492</td>\n",
       "      <td>0.489469</td>\n",
       "    </tr>\n",
       "    <tr>\n",
       "      <th>min</th>\n",
       "      <td>0.000000</td>\n",
       "      <td>47.495900</td>\n",
       "      <td>-122.419200</td>\n",
       "      <td>1.000000</td>\n",
       "      <td>0.000000</td>\n",
       "      <td>0.000000</td>\n",
       "      <td>0.000000</td>\n",
       "      <td>0.000000</td>\n",
       "      <td>0.000000</td>\n",
       "      <td>0.000000</td>\n",
       "      <td>...</td>\n",
       "      <td>0.000000</td>\n",
       "      <td>0.000000</td>\n",
       "      <td>0.000000</td>\n",
       "      <td>0.000000</td>\n",
       "      <td>0.000000</td>\n",
       "      <td>0.000000</td>\n",
       "      <td>0.000000</td>\n",
       "      <td>0.000000</td>\n",
       "      <td>0.000000</td>\n",
       "      <td>0.000000</td>\n",
       "    </tr>\n",
       "    <tr>\n",
       "      <th>25%</th>\n",
       "      <td>0.000000</td>\n",
       "      <td>47.605400</td>\n",
       "      <td>-122.353000</td>\n",
       "      <td>2.000000</td>\n",
       "      <td>1.000000</td>\n",
       "      <td>1.000000</td>\n",
       "      <td>1.000000</td>\n",
       "      <td>79.000000</td>\n",
       "      <td>40.000000</td>\n",
       "      <td>3.000000</td>\n",
       "      <td>...</td>\n",
       "      <td>0.000000</td>\n",
       "      <td>0.000000</td>\n",
       "      <td>0.000000</td>\n",
       "      <td>0.000000</td>\n",
       "      <td>0.000000</td>\n",
       "      <td>0.000000</td>\n",
       "      <td>0.000000</td>\n",
       "      <td>0.000000</td>\n",
       "      <td>0.000000</td>\n",
       "      <td>0.000000</td>\n",
       "    </tr>\n",
       "    <tr>\n",
       "      <th>50%</th>\n",
       "      <td>0.000000</td>\n",
       "      <td>47.619500</td>\n",
       "      <td>-122.332700</td>\n",
       "      <td>3.000000</td>\n",
       "      <td>1.000000</td>\n",
       "      <td>1.000000</td>\n",
       "      <td>1.000000</td>\n",
       "      <td>115.000000</td>\n",
       "      <td>72.000000</td>\n",
       "      <td>20.000000</td>\n",
       "      <td>...</td>\n",
       "      <td>0.000000</td>\n",
       "      <td>0.000000</td>\n",
       "      <td>0.000000</td>\n",
       "      <td>0.000000</td>\n",
       "      <td>0.000000</td>\n",
       "      <td>0.000000</td>\n",
       "      <td>0.000000</td>\n",
       "      <td>0.000000</td>\n",
       "      <td>0.000000</td>\n",
       "      <td>0.000000</td>\n",
       "    </tr>\n",
       "    <tr>\n",
       "      <th>75%</th>\n",
       "      <td>1.000000</td>\n",
       "      <td>47.658800</td>\n",
       "      <td>-122.311900</td>\n",
       "      <td>4.000000</td>\n",
       "      <td>1.500000</td>\n",
       "      <td>2.000000</td>\n",
       "      <td>2.000000</td>\n",
       "      <td>180.000000</td>\n",
       "      <td>100.000000</td>\n",
       "      <td>71.000000</td>\n",
       "      <td>...</td>\n",
       "      <td>0.000000</td>\n",
       "      <td>0.000000</td>\n",
       "      <td>0.000000</td>\n",
       "      <td>0.000000</td>\n",
       "      <td>0.000000</td>\n",
       "      <td>0.000000</td>\n",
       "      <td>0.000000</td>\n",
       "      <td>0.000000</td>\n",
       "      <td>0.000000</td>\n",
       "      <td>1.000000</td>\n",
       "    </tr>\n",
       "    <tr>\n",
       "      <th>max</th>\n",
       "      <td>1.000000</td>\n",
       "      <td>47.735900</td>\n",
       "      <td>-122.236700</td>\n",
       "      <td>28.000000</td>\n",
       "      <td>16.000000</td>\n",
       "      <td>8.000000</td>\n",
       "      <td>49.000000</td>\n",
       "      <td>999.000000</td>\n",
       "      <td>700.000000</td>\n",
       "      <td>800.000000</td>\n",
       "      <td>...</td>\n",
       "      <td>1.000000</td>\n",
       "      <td>1.000000</td>\n",
       "      <td>1.000000</td>\n",
       "      <td>1.000000</td>\n",
       "      <td>1.000000</td>\n",
       "      <td>1.000000</td>\n",
       "      <td>1.000000</td>\n",
       "      <td>1.000000</td>\n",
       "      <td>1.000000</td>\n",
       "      <td>1.000000</td>\n",
       "    </tr>\n",
       "  </tbody>\n",
       "</table>\n",
       "<p>8 rows × 313 columns</p>\n",
       "</div>"
      ],
      "text/plain": [
       "       host_is_superhost     latitude    longitude  accommodates    bathrooms  \\\n",
       "count        7894.000000  7894.000000  7894.000000   7894.000000  7894.000000   \n",
       "mean            0.435394    47.624743  -122.333367      3.668736     1.314583   \n",
       "std             0.495840     0.045522     0.031519      2.321186     0.660163   \n",
       "min             0.000000    47.495900  -122.419200      1.000000     0.000000   \n",
       "25%             0.000000    47.605400  -122.353000      2.000000     1.000000   \n",
       "50%             0.000000    47.619500  -122.332700      3.000000     1.000000   \n",
       "75%             1.000000    47.658800  -122.311900      4.000000     1.500000   \n",
       "max             1.000000    47.735900  -122.236700     28.000000    16.000000   \n",
       "\n",
       "          bedrooms         beds        price  cleaning_fee  number_of_reviews  \\\n",
       "count  7894.000000  7894.000000  7894.000000   7894.000000        7894.000000   \n",
       "mean      1.385777     1.912685   157.311376     83.714270          53.036990   \n",
       "std       1.000765     1.605642   153.093786     71.316643          78.742434   \n",
       "min       0.000000     0.000000     0.000000      0.000000           0.000000   \n",
       "25%       1.000000     1.000000    79.000000     40.000000           3.000000   \n",
       "50%       1.000000     1.000000   115.000000     72.000000          20.000000   \n",
       "75%       2.000000     2.000000   180.000000    100.000000          71.000000   \n",
       "max       8.000000    49.000000   999.000000    700.000000         800.000000   \n",
       "\n",
       "       ...  minimum_nights: 9  minimum_nights: 10  minimum_nights: 11  \\\n",
       "count  ...        7894.000000         7894.000000         7894.000000   \n",
       "mean   ...           0.002154            0.001393            0.000127   \n",
       "std    ...           0.046359            0.037305            0.011255   \n",
       "min    ...           0.000000            0.000000            0.000000   \n",
       "25%    ...           0.000000            0.000000            0.000000   \n",
       "50%    ...           0.000000            0.000000            0.000000   \n",
       "75%    ...           0.000000            0.000000            0.000000   \n",
       "max    ...           1.000000            1.000000            1.000000   \n",
       "\n",
       "       minimum_nights: 12  minimum_nights: 13  minimum_nights: 14  \\\n",
       "count         7894.000000         7894.000000         7894.000000   \n",
       "mean             0.000127            0.000760            0.000760   \n",
       "std              0.011255            0.027561            0.027561   \n",
       "min              0.000000            0.000000            0.000000   \n",
       "25%              0.000000            0.000000            0.000000   \n",
       "50%              0.000000            0.000000            0.000000   \n",
       "75%              0.000000            0.000000            0.000000   \n",
       "max              1.000000            1.000000            1.000000   \n",
       "\n",
       "       minimum_nights: 15  minimum_nights: 16  minimum_nights: 17  \\\n",
       "count         7894.000000         7894.000000         7894.000000   \n",
       "mean             0.000127            0.001140            0.000380   \n",
       "std              0.011255            0.033748            0.019492   \n",
       "min              0.000000            0.000000            0.000000   \n",
       "25%              0.000000            0.000000            0.000000   \n",
       "50%              0.000000            0.000000            0.000000   \n",
       "75%              0.000000            0.000000            0.000000   \n",
       "max              1.000000            1.000000            1.000000   \n",
       "\n",
       "       minimum_nights: 18  \n",
       "count         7894.000000  \n",
       "mean             0.397770  \n",
       "std              0.489469  \n",
       "min              0.000000  \n",
       "25%              0.000000  \n",
       "50%              0.000000  \n",
       "75%              1.000000  \n",
       "max              1.000000  \n",
       "\n",
       "[8 rows x 313 columns]"
      ]
     },
     "execution_count": 224,
     "metadata": {},
     "output_type": "execute_result"
    }
   ],
   "source": [
    "clean_data.describe()"
   ]
  },
  {
   "cell_type": "code",
   "execution_count": 225,
   "metadata": {},
   "outputs": [],
   "source": [
    "clean_data = clean_data[clean_data.review_scores_rating>60]"
   ]
  },
  {
   "cell_type": "code",
   "execution_count": 226,
   "metadata": {},
   "outputs": [],
   "source": [
    "clean_data = clean_data[clean_data.price>20]\n",
    "clean_data = clean_data[clean_data.price<800]\n",
    "clean_data = clean_data.dropna()"
   ]
  },
  {
   "cell_type": "markdown",
   "metadata": {},
   "source": [
    "# Visualize Data"
   ]
  },
  {
   "cell_type": "code",
   "execution_count": 227,
   "metadata": {},
   "outputs": [],
   "source": [
    "import seaborn as sbn\n",
    "import statsmodels\n",
    "import statsmodels.api as sm\n",
    "import matplotlib.pyplot as plt\n",
    "import scipy.stats as stats"
   ]
  },
  {
   "cell_type": "code",
   "execution_count": 235,
   "metadata": {},
   "outputs": [
    {
     "data": {
      "image/png": "[encoded data removed]",
      "text/plain": [
       "<Figure size 1512x432 with 3 Axes>"
      ]
     },
     "metadata": {
      "needs_background": "light"
     },
     "output_type": "display_data"
    }
   ],
   "source": [
    "fig, axes = plt.subplots(1,3, figsize=(21,6))\n",
    "sbn.distplot((clean_data['price']), ax=axes[0])\n",
    "axes[0].set_xlabel('price')\n",
    "sm.qqplot(np.log1p(clean_data['price']), stats.norm, fit=True, line='45', ax=axes[1])\n",
    "sbn.scatterplot(x= clean_data['latitude'], y=clean_data['longitude'],hue=clean_data['price'],ax=axes[2]);"
   ]
  },
  {
   "cell_type": "markdown",
   "metadata": {},
   "source": [
    "# Train Test Split"
   ]
  },
  {
   "cell_type": "code",
   "execution_count": 229,
   "metadata": {},
   "outputs": [],
   "source": [
    "ss = StandardScaler()\n",
    "X = clean_data.drop(columns=['price','number_of_reviews_ltm','review_scores_rating',\n",
    "                             'review_scores_value','reviews_per_month'])\n",
    "Xss = ss.fit_transform(X)\n",
    "y = clean_data['price']\n",
    "Xtrain,Xtest,ytrain,ytest = train_test_split(Xss,y,test_size = .05,random_state=11)"
   ]
  },
  {
   "cell_type": "code",
   "execution_count": 230,
   "metadata": {},
   "outputs": [
    {
     "data": {
      "text/plain": [
       "Index(['host_is_superhost', 'latitude', 'longitude', 'accommodates',\n",
       "       'bathrooms', 'bedrooms', 'beds', 'cleaning_fee', 'number_of_reviews',\n",
       "       'neighbourhood_group: Ballard',\n",
       "       ...\n",
       "       'minimum_nights: 9', 'minimum_nights: 10', 'minimum_nights: 11',\n",
       "       'minimum_nights: 12', 'minimum_nights: 13', 'minimum_nights: 14',\n",
       "       'minimum_nights: 15', 'minimum_nights: 16', 'minimum_nights: 17',\n",
       "       'minimum_nights: 18'],\n",
       "      dtype='object', length=308)"
      ]
     },
     "execution_count": 230,
     "metadata": {},
     "output_type": "execute_result"
    }
   ],
   "source": [
    "X.columns"
   ]
  },
  {
   "cell_type": "markdown",
   "metadata": {},
   "source": [
    "# Random Forest"
   ]
  },
  {
   "cell_type": "code",
   "execution_count": 231,
   "metadata": {},
   "outputs": [
    {
     "data": {
      "text/plain": [
       "0.8833266298801309"
      ]
     },
     "execution_count": 231,
     "metadata": {},
     "output_type": "execute_result"
    }
   ],
   "source": [
    "rfr = RandomForestRegressor(n_estimators=1000,min_samples_split=5,min_samples_leaf=3,random_state=11)\n",
    "rfr.fit(Xtrain,ytrain)\n",
    "rfr.score(Xtrain,ytrain)"
   ]
  },
  {
   "cell_type": "code",
   "execution_count": 232,
   "metadata": {},
   "outputs": [],
   "source": [
    "yprebootstrapdtrain = rfr.predict(Xtrain)\n",
    "ypredtest = rfr.predict(Xtest)"
   ]
  },
  {
   "cell_type": "code",
   "execution_count": 233,
   "metadata": {},
   "outputs": [
    {
     "name": "stdout",
     "output_type": "stream",
     "text": [
      "0.8834585912382823\n",
      "0.6694152235163273\n"
     ]
    }
   ],
   "source": [
    "from sklearn.metrics import r2_score, explained_variance_score,mean_absolute_error,mean_squared_error\n",
    "print(r2_score(ytrain,ypredtrain))\n",
    "print(r2_score(ytest,ypredtest))"
   ]
  },
  {
   "cell_type": "code",
   "execution_count": 56,
   "metadata": {},
   "outputs": [
    {
     "data": {
      "text/plain": [
       "array([4.03377658e-03, 7.47676103e-02, 4.68655275e-02, 5.09829854e-02,\n",
       "       5.44436817e-02, 3.51110660e-01, 1.13265340e-02, 1.59012446e-01,\n",
       "       3.59154255e-02, 3.79753138e-04, 4.42898381e-04, 7.86248016e-04,\n",
       "       8.01302456e-04, 7.15114675e-04, 1.57415418e-04, 1.89681700e-03,\n",
       "       3.19933964e-07, 1.47576730e-04, 1.59276994e-04, 2.90141557e-04,\n",
       "       3.04041646e-03, 1.04422488e-03, 6.97265032e-04, 1.28519978e-04,\n",
       "       3.20992837e-04, 5.49105594e-04, 4.92063550e-05, 1.29626766e-04,\n",
       "       0.00000000e+00, 7.48242710e-05, 6.39811911e-04, 4.53846784e-06,\n",
       "       3.67346941e-07, 1.30399738e-05, 0.00000000e+00, 4.80019186e-04,\n",
       "       5.09164254e-07, 0.00000000e+00, 4.97076336e-04, 5.19951717e-05,\n",
       "       9.12193613e-07, 1.07183337e-05, 2.91489306e-05, 1.72725707e-05,\n",
       "       3.42823903e-05, 7.24396167e-06, 2.61354357e-04, 7.50139961e-04,\n",
       "       7.67023159e-05, 1.95700157e-05, 9.38652936e-07, 8.28658978e-05,\n",
       "       2.86607516e-04, 2.04997617e-06, 0.00000000e+00, 0.00000000e+00,\n",
       "       0.00000000e+00, 9.88909723e-07, 0.00000000e+00, 0.00000000e+00,\n",
       "       6.25536427e-08, 5.17912762e-05, 1.08780280e-06, 1.82758087e-04,\n",
       "       7.39251177e-06, 1.04761798e-04, 6.29317055e-04, 0.00000000e+00,\n",
       "       1.43953668e-05, 1.12954335e-04, 7.98583276e-05, 1.15956550e-07,\n",
       "       0.00000000e+00, 4.40834370e-05, 1.56780009e-04, 9.02525792e-05,\n",
       "       1.82324841e-05, 3.05596979e-04, 1.00598981e-07, 2.04467867e-04,\n",
       "       2.10602381e-05, 1.70360959e-05, 6.46062837e-05, 0.00000000e+00,\n",
       "       7.32788773e-05, 1.49550881e-04, 3.60238279e-07, 1.25124401e-04,\n",
       "       0.00000000e+00, 3.89807473e-05, 0.00000000e+00, 3.75413439e-05,\n",
       "       8.23366227e-07, 4.75726204e-05, 0.00000000e+00, 6.27018269e-07,\n",
       "       1.25379504e-04, 3.03851123e-06, 3.76774870e-05, 9.43156088e-05,\n",
       "       0.00000000e+00, 4.21154722e-06, 2.14347328e-04, 6.00909806e-07,\n",
       "       3.25642118e-04, 8.77854188e-07, 0.00000000e+00, 5.66427200e-04,\n",
       "       8.40662810e-07, 1.38192987e-04, 1.55998702e-05, 8.52721068e-05,\n",
       "       1.77194022e-05, 0.00000000e+00, 2.44097441e-05, 2.11727769e-03,\n",
       "       6.96682136e-05, 1.96742684e-03, 3.03140246e-04, 1.50212918e-04,\n",
       "       1.31929556e-03, 4.18495737e-04, 8.96207188e-03, 1.14369543e-04,\n",
       "       3.75299669e-03, 2.25648482e-03, 1.70073079e-04, 0.00000000e+00,\n",
       "       0.00000000e+00, 0.00000000e+00, 2.16773892e-04, 7.24897719e-05,\n",
       "       5.42217044e-03, 1.21424642e-03, 1.46755086e-03, 7.06801591e-04,\n",
       "       1.01736616e-04, 9.52922674e-04, 2.87524114e-05, 2.23006549e-04,\n",
       "       4.95926887e-04, 4.20591899e-04, 3.88876164e-05, 2.91407541e-05,\n",
       "       4.09148794e-04, 5.44822004e-04, 2.85514758e-05, 2.02997559e-03,\n",
       "       1.13758320e-04, 3.72373748e-04, 1.03784882e-04, 2.54871285e-04,\n",
       "       3.16794955e-04, 3.90022299e-04, 1.72820704e-03, 1.83636757e-03,\n",
       "       9.00027819e-04, 3.87716511e-04, 2.90374358e-04, 9.41365425e-04,\n",
       "       1.05874896e-03, 1.30030354e-03, 7.77103289e-04, 3.94089375e-04,\n",
       "       3.09442942e-04, 3.36436415e-05, 3.11287528e-05, 1.50241008e-05,\n",
       "       1.03969845e-04, 8.55945476e-04, 3.35131137e-03, 1.39339035e-04,\n",
       "       5.41633458e-05, 5.33298019e-04, 5.23625040e-04, 8.17654351e-04,\n",
       "       4.36176131e-04, 7.98539519e-05, 5.55751970e-03, 4.86437587e-03,\n",
       "       9.43868832e-04, 4.68816179e-03, 5.54868532e-04, 4.91228477e-05,\n",
       "       2.64825500e-04, 3.55460777e-04, 7.28480923e-04, 2.47636553e-04,\n",
       "       2.68990658e-05, 2.52389559e-04, 4.09094145e-05, 1.60853476e-05,\n",
       "       2.22723430e-04, 8.80285028e-05, 8.46746922e-05, 9.06155122e-05,\n",
       "       2.04677255e-04, 9.70113205e-05, 8.57361785e-04, 1.58204829e-05,\n",
       "       4.03667473e-05, 1.07276228e-03, 2.15453712e-03, 3.52804824e-03,\n",
       "       3.32737905e-04, 5.84940923e-03, 1.50613080e-05, 2.20029099e-03,\n",
       "       2.31558737e-03, 2.10230088e-04, 9.37711702e-05, 4.00942609e-04,\n",
       "       2.92821341e-05, 8.45140680e-05, 5.97924513e-04, 4.68862228e-04,\n",
       "       2.62022488e-05, 7.56786594e-03, 2.09707041e-04, 1.14627742e-04,\n",
       "       5.10514107e-05, 3.39889932e-03, 8.54100899e-04, 1.73619965e-05,\n",
       "       3.12488662e-05, 2.22607323e-04, 1.10572848e-04, 6.98703475e-04,\n",
       "       2.04768134e-04, 1.91854961e-04, 6.17469039e-04, 5.45852525e-04,\n",
       "       1.50045785e-04, 5.88145136e-04, 3.30821725e-05, 3.81661268e-06,\n",
       "       4.72084302e-06, 1.22783638e-04, 2.48330698e-03, 1.47793825e-03,\n",
       "       7.84134995e-04, 8.99590868e-05, 1.23573062e-03, 1.05549337e-03,\n",
       "       3.48717122e-04, 1.49035030e-04, 1.14239082e-04, 5.43317169e-04,\n",
       "       4.34094954e-04, 4.83685575e-03, 1.23374464e-05, 9.13512051e-05,\n",
       "       2.29941627e-05, 1.12328420e-04, 9.83759292e-06, 2.37248018e-05,\n",
       "       8.51844734e-04, 2.79304911e-04, 5.36850707e-04, 0.00000000e+00,\n",
       "       0.00000000e+00, 0.00000000e+00, 3.60855055e-03, 1.02215047e-03,\n",
       "       1.92272859e-03, 3.45258730e-05, 1.49459121e-03, 1.64335048e-02,\n",
       "       8.82054189e-04, 1.07189596e-03, 1.50456516e-05, 1.53549697e-03,\n",
       "       2.73648983e-04, 5.02092126e-04, 8.54629834e-04, 2.08755823e-04,\n",
       "       3.07027992e-05, 2.14613122e-04, 2.66977582e-04, 3.59267462e-03,\n",
       "       9.55683508e-03, 1.07416814e-03, 5.58219132e-03, 9.39090082e-05,\n",
       "       1.04165669e-04, 2.90930895e-03, 2.24202524e-03, 3.33648180e-04,\n",
       "       4.29245918e-04, 2.27291212e-03, 2.87808930e-03, 1.09720185e-03,\n",
       "       2.24638551e-04, 1.91116175e-06, 4.70993504e-06, 6.85910606e-05,\n",
       "       0.00000000e+00, 0.00000000e+00, 1.54195263e-05, 0.00000000e+00,\n",
       "       0.00000000e+00, 0.00000000e+00, 0.00000000e+00, 0.00000000e+00,\n",
       "       0.00000000e+00, 0.00000000e+00, 0.00000000e+00, 4.01319390e-03])"
      ]
     },
     "execution_count": 56,
     "metadata": {},
     "output_type": "execute_result"
    }
   ],
   "source": [
    "\n",
    "# import pickle\n",
    "# pickle.dump(rfr, open('rf.sav', 'wb'))"
   ]
  },
  {
   "cell_type": "code",
   "execution_count": null,
   "metadata": {},
   "outputs": [],
   "source": [
    "sorted(list(zip(rfr.feature_importances_,X.columns)),reverse=True)[0:15]"
   ]
  },
  {
   "cell_type": "code",
   "execution_count": null,
   "metadata": {},
   "outputs": [],
   "source": [
    "list(zip(ytest,ypredtest))[0:10]"
   ]
  },
  {
   "cell_type": "code",
   "execution_count": null,
   "metadata": {},
   "outputs": [],
   "source": [
    "abs(sum(ytest)-sum(ypredtest))/len(ytest)"
   ]
  },
  {
   "cell_type": "code",
   "execution_count": null,
   "metadata": {},
   "outputs": [],
   "source": [
    "y"
   ]
  },
  {
   "cell_type": "code",
   "execution_count": null,
   "metadata": {},
   "outputs": [],
   "source": [
    "from sklearn import tree\n",
    "fig, axes = plt.subplots(nrows = 1,ncols = 1,figsize = (4,4), dpi=800)\n",
    "tree.plot_tree(rfr.estimators_[0],\n",
    "               feature_names = X.columns, \n",
    "               filled = True);\n",
    "fig.savefig('rf_individualtree.png')\n"
   ]
  },
  {
   "cell_type": "markdown",
   "metadata": {},
   "source": [
    "# Neural Net"
   ]
  },
  {
   "cell_type": "code",
   "execution_count": null,
   "metadata": {},
   "outputs": [],
   "source": [
    "from tensorflow.python.keras.models import Sequential\n",
    "from tensorflow.python.keras.layers import Dense\n",
    "from tensorflow.python.keras.layers import Dropout\n",
    "from tensorflow.python.keras.wrappers.scikit_learn import KerasRegressor\n",
    "from sklearn.model_selection import KFold"
   ]
  },
  {
   "cell_type": "code",
   "execution_count": null,
   "metadata": {},
   "outputs": [],
   "source": [
    "model = Sequential()\n",
    "model.add(Dense(len(X.columns), input_dim=len(X.columns), kernel_initializer='normal', activation='relu'))\n",
    "model.add(Dense(200,activation='relu'))\n",
    "model.add(Dense(1, activation='linear'))\n",
    "model.summary()"
   ]
  },
  {
   "cell_type": "code",
   "execution_count": null,
   "metadata": {},
   "outputs": [],
   "source": [
    "model.compile(loss='mse', optimizer='adam', metrics=['mse','mae'])"
   ]
  },
  {
   "cell_type": "code",
   "execution_count": null,
   "metadata": {},
   "outputs": [],
   "source": [
    "history = model.fit(Xtrain, ytrain, epochs=100, batch_size=3,  verbose=1, validation_split=0.2)"
   ]
  },
  {
   "cell_type": "code",
   "execution_count": null,
   "metadata": {},
   "outputs": [],
   "source": [
    "nnpreds = []\n",
    "for x in model.predict(Xtest):\n",
    "    for x in x:\n",
    "        nnpreds.append(x)"
   ]
  },
  {
   "cell_type": "code",
   "execution_count": null,
   "metadata": {},
   "outputs": [],
   "source": [
    "abs(sum(ytest)-sum(nnpreds))/len(ytest)"
   ]
  },
  {
   "cell_type": "code",
   "execution_count": null,
   "metadata": {},
   "outputs": [],
   "source": [
    "print(explained_variance_score(ytest,ypredtest))\n",
    "# print(explained_variance_score(ytest,nnpreds))"
   ]
  },
  {
   "cell_type": "code",
   "execution_count": null,
   "metadata": {},
   "outputs": [],
   "source": [
    "print(mean_absolute_error(ytest,ypredtest))\n",
    "# print(mean_absolute_error(ytest,nnpreds))"
   ]
  },
  {
   "cell_type": "code",
   "execution_count": null,
   "metadata": {},
   "outputs": [],
   "source": [
    "print(r2_score(ytest,ypredtest))\n",
    "print(r2_score(ytest,nnpreds))"
   ]
  },
  {
   "cell_type": "code",
   "execution_count": null,
   "metadata": {},
   "outputs": [],
   "source": [
    "fig, axes = plt.subplots(1,3, figsize=(21,6))\n",
    "sbn.distplot(list(abs(ytest-ypredtest)/ytest), ax=axes[0])\n",
    "axes[0].set_xlabel('percentage difference')\n",
    "sm.qqplot(np.log1p(clean_data['price']), stats.norm, fit=True, line='45', ax=axes[1])\n",
    "sbn.scatterplot(x= clean_data['latitude'], y=clean_data['longitude'],hue=clean_data['price'],ax=axes[2]);"
   ]
  },
  {
   "cell_type": "code",
   "execution_count": null,
   "metadata": {},
   "outputs": [],
   "source": [
    "len(ytest)"
   ]
  },
  {
   "cell_type": "code",
   "execution_count": null,
   "metadata": {},
   "outputs": [],
   "source": [
    "list(abs(ytest-ypredtest)/ytest)"
   ]
  },
  {
   "cell_type": "code",
   "execution_count": null,
   "metadata": {},
   "outputs": [],
   "source": [
    "sum(abs(ytest-nnpreds)/ytest)/len(ytest)"
   ]
  },
  {
   "cell_type": "code",
   "execution_count": null,
   "metadata": {},
   "outputs": [],
   "source": [
    "list(zip(abs(ytest-nnpreds),abs(ytest-ypredtest)))"
   ]
  },
  {
   "cell_type": "code",
   "execution_count": null,
   "metadata": {},
   "outputs": [],
   "source": [
    "list(zip(nnpreds,ytest,ypredtest))"
   ]
  },
  {
   "cell_type": "code",
   "execution_count": null,
   "metadata": {},
   "outputs": [],
   "source": [
    "list(data1.columns)"
   ]
  },
  {
   "cell_type": "code",
   "execution_count": null,
   "metadata": {},
   "outputs": [],
   "source": [
    "list(X.columns)"
   ]
  },
  {
   "cell_type": "code",
   "execution_count": null,
   "metadata": {},
   "outputs": [],
   "source": []
  }
 ],
 "metadata": {
  "kernelspec": {
   "display_name": "bnb_env",
   "language": "python",
   "name": "bnb_env"
  },
  "language_info": {
   "codemirror_mode": {
    "name": "ipython",
    "version": 3
   },
   "file_extension": ".py",
   "mimetype": "text/x-python",
   "name": "python",
   "nbconvert_exporter": "python",
   "pygments_lexer": "ipython3",
   "version": "3.7.4"
  }
 },
 "nbformat": 4,
 "nbformat_minor": 4
}
