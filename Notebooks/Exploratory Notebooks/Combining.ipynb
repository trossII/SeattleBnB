{
 "cells": [
  {
   "cell_type": "code",
   "execution_count": 1,
   "metadata": {},
   "outputs": [],
   "source": [
    "import pandas as pd\n",
    "import numpy as np\n",
    "import nltk\n",
    "import sklearn\n",
    "import string, re\n",
    "import urllib\n",
    "from sklearn.model_selection import train_test_split, GridSearchCV\n",
    "from sklearn.preprocessing import OneHotEncoder,StandardScaler\n",
    "from sklearn.feature_extraction.text import TfidfVectorizer\n",
    "from sklearn.ensemble import RandomForestRegressor\n",
    "from nltk.corpus import stopwords"
   ]
  },
  {
   "cell_type": "code",
   "execution_count": 2,
   "metadata": {},
   "outputs": [],
   "source": [
    "april = pd.read_csv('../Data/2018/listings42018sum.csv')\n",
    "may = pd.read_csv('../Data/2018/listings52018sum.csv')\n",
    "july = pd.read_csv('../Data/2018/listings72018sum.csv')\n",
    "august = pd.read_csv('../Data/2018/listings82018sum.csv')\n",
    "september = pd.read_csv('../Data/2018/listings92018sum.csv')\n",
    "october = pd.read_csv('../Data/2018/listings102018sum.csv')\n",
    "november = pd.read_csv('../Data/2018/listings112018sum.csv')\n",
    "december = pd.read_csv('../Data/2018/listings122018sum.csv')"
   ]
  },
  {
   "cell_type": "code",
   "execution_count": 3,
   "metadata": {},
   "outputs": [],
   "source": [
    "april['month'] = 'april'\n",
    "may['month'] = 'may'\n",
    "july['month'] = 'july'\n",
    "august['month'] = 'august'\n",
    "september['month'] = 'september'\n",
    "october['month'] = 'october'\n",
    "november['month'] = 'november'\n",
    "december['month'] = 'december'"
   ]
  },
  {
   "cell_type": "code",
   "execution_count": 4,
   "metadata": {},
   "outputs": [],
   "source": [
    "frames = [april,may,july,august,september,october,november,december]\n",
    "data_2018 = pd.concat(frames)"
   ]
  },
  {
   "cell_type": "code",
   "execution_count": 5,
   "metadata": {},
   "outputs": [
    {
     "data": {
      "text/html": [
       "<div>\n",
       "<style scoped>\n",
       "    .dataframe tbody tr th:only-of-type {\n",
       "        vertical-align: middle;\n",
       "    }\n",
       "\n",
       "    .dataframe tbody tr th {\n",
       "        vertical-align: top;\n",
       "    }\n",
       "\n",
       "    .dataframe thead th {\n",
       "        text-align: right;\n",
       "    }\n",
       "</style>\n",
       "<table border=\"1\" class=\"dataframe\">\n",
       "  <thead>\n",
       "    <tr style=\"text-align: right;\">\n",
       "      <th></th>\n",
       "      <th>id</th>\n",
       "      <th>name</th>\n",
       "      <th>host_id</th>\n",
       "      <th>host_name</th>\n",
       "      <th>neighbourhood_group</th>\n",
       "      <th>neighbourhood</th>\n",
       "      <th>latitude</th>\n",
       "      <th>longitude</th>\n",
       "      <th>room_type</th>\n",
       "      <th>price</th>\n",
       "      <th>minimum_nights</th>\n",
       "      <th>number_of_reviews</th>\n",
       "      <th>last_review</th>\n",
       "      <th>reviews_per_month</th>\n",
       "      <th>calculated_host_listings_count</th>\n",
       "      <th>availability_365</th>\n",
       "      <th>month</th>\n",
       "    </tr>\n",
       "  </thead>\n",
       "  <tbody>\n",
       "    <tr>\n",
       "      <td>0</td>\n",
       "      <td>2318</td>\n",
       "      <td>Casa Madrona - Urban Oasis, 1 block from the P...</td>\n",
       "      <td>2536</td>\n",
       "      <td>Megan</td>\n",
       "      <td>Central Area</td>\n",
       "      <td>Madrona</td>\n",
       "      <td>47.610819</td>\n",
       "      <td>-122.290816</td>\n",
       "      <td>Entire home/apt</td>\n",
       "      <td>296</td>\n",
       "      <td>4</td>\n",
       "      <td>15</td>\n",
       "      <td>2018-04-04</td>\n",
       "      <td>0.13</td>\n",
       "      <td>1</td>\n",
       "      <td>283</td>\n",
       "      <td>april</td>\n",
       "    </tr>\n",
       "    <tr>\n",
       "      <td>1</td>\n",
       "      <td>4291</td>\n",
       "      <td>Sunrise in Seattle Master Suite</td>\n",
       "      <td>35749</td>\n",
       "      <td>Jess &amp; Joey</td>\n",
       "      <td>Other neighborhoods</td>\n",
       "      <td>Roosevelt</td>\n",
       "      <td>47.687801</td>\n",
       "      <td>-122.313427</td>\n",
       "      <td>Private room</td>\n",
       "      <td>82</td>\n",
       "      <td>2</td>\n",
       "      <td>54</td>\n",
       "      <td>2017-08-27</td>\n",
       "      <td>0.93</td>\n",
       "      <td>5</td>\n",
       "      <td>280</td>\n",
       "      <td>april</td>\n",
       "    </tr>\n",
       "    <tr>\n",
       "      <td>2</td>\n",
       "      <td>5682</td>\n",
       "      <td>Cozy Studio, min. to downtown -WiFi</td>\n",
       "      <td>8993</td>\n",
       "      <td>Maddy</td>\n",
       "      <td>Delridge</td>\n",
       "      <td>South Delridge</td>\n",
       "      <td>47.523980</td>\n",
       "      <td>-122.359891</td>\n",
       "      <td>Entire home/apt</td>\n",
       "      <td>48</td>\n",
       "      <td>3</td>\n",
       "      <td>423</td>\n",
       "      <td>2018-03-29</td>\n",
       "      <td>4.30</td>\n",
       "      <td>1</td>\n",
       "      <td>157</td>\n",
       "      <td>april</td>\n",
       "    </tr>\n",
       "    <tr>\n",
       "      <td>3</td>\n",
       "      <td>6606</td>\n",
       "      <td>Fab, private seattle urban cottage!</td>\n",
       "      <td>14942</td>\n",
       "      <td>Joyce</td>\n",
       "      <td>Other neighborhoods</td>\n",
       "      <td>Wallingford</td>\n",
       "      <td>47.654109</td>\n",
       "      <td>-122.337605</td>\n",
       "      <td>Entire home/apt</td>\n",
       "      <td>90</td>\n",
       "      <td>2</td>\n",
       "      <td>109</td>\n",
       "      <td>2017-12-07</td>\n",
       "      <td>1.02</td>\n",
       "      <td>3</td>\n",
       "      <td>324</td>\n",
       "      <td>april</td>\n",
       "    </tr>\n",
       "    <tr>\n",
       "      <td>4</td>\n",
       "      <td>9419</td>\n",
       "      <td>Glorious sun room w/ memory foambed</td>\n",
       "      <td>30559</td>\n",
       "      <td>Angielena</td>\n",
       "      <td>Other neighborhoods</td>\n",
       "      <td>Georgetown</td>\n",
       "      <td>47.550620</td>\n",
       "      <td>-122.320135</td>\n",
       "      <td>Private room</td>\n",
       "      <td>65</td>\n",
       "      <td>2</td>\n",
       "      <td>118</td>\n",
       "      <td>2018-02-08</td>\n",
       "      <td>1.26</td>\n",
       "      <td>5</td>\n",
       "      <td>357</td>\n",
       "      <td>april</td>\n",
       "    </tr>\n",
       "  </tbody>\n",
       "</table>\n",
       "</div>"
      ],
      "text/plain": [
       "     id                                               name  host_id  \\\n",
       "0  2318  Casa Madrona - Urban Oasis, 1 block from the P...     2536   \n",
       "1  4291                    Sunrise in Seattle Master Suite    35749   \n",
       "2  5682                Cozy Studio, min. to downtown -WiFi     8993   \n",
       "3  6606                Fab, private seattle urban cottage!    14942   \n",
       "4  9419                Glorious sun room w/ memory foambed    30559   \n",
       "\n",
       "     host_name  neighbourhood_group   neighbourhood   latitude   longitude  \\\n",
       "0        Megan         Central Area         Madrona  47.610819 -122.290816   \n",
       "1  Jess & Joey  Other neighborhoods       Roosevelt  47.687801 -122.313427   \n",
       "2        Maddy             Delridge  South Delridge  47.523980 -122.359891   \n",
       "3        Joyce  Other neighborhoods     Wallingford  47.654109 -122.337605   \n",
       "4    Angielena  Other neighborhoods      Georgetown  47.550620 -122.320135   \n",
       "\n",
       "         room_type  price  minimum_nights  number_of_reviews last_review  \\\n",
       "0  Entire home/apt    296               4                 15  2018-04-04   \n",
       "1     Private room     82               2                 54  2017-08-27   \n",
       "2  Entire home/apt     48               3                423  2018-03-29   \n",
       "3  Entire home/apt     90               2                109  2017-12-07   \n",
       "4     Private room     65               2                118  2018-02-08   \n",
       "\n",
       "   reviews_per_month  calculated_host_listings_count  availability_365  month  \n",
       "0               0.13                               1               283  april  \n",
       "1               0.93                               5               280  april  \n",
       "2               4.30                               1               157  april  \n",
       "3               1.02                               3               324  april  \n",
       "4               1.26                               5               357  april  "
      ]
     },
     "execution_count": 5,
     "metadata": {},
     "output_type": "execute_result"
    }
   ],
   "source": [
    "data_2018.head()"
   ]
  },
  {
   "cell_type": "code",
   "execution_count": 6,
   "metadata": {},
   "outputs": [],
   "source": [
    "data_2018['reviews_per_month'] = data_2018['reviews_per_month'].fillna(0)\n",
    "ohe = OneHotEncoder(sparse=False)\n",
    "neigh_group = ohe.fit_transform(data_2018[['neighbourhood_group']])\n",
    "neigh_group_cat = ohe.categories_\n",
    "neigh = ohe.fit_transform(data_2018[['neighbourhood']])\n",
    "neigh_cat = ohe.categories_\n",
    "room = ohe.fit_transform(data_2018[['room_type']])\n",
    "room_cat = ohe.categories_\n",
    "month_group = ohe.fit_transform(data_2018[['month']])\n",
    "month_group_cat = ohe.categories_"
   ]
  },
  {
   "cell_type": "code",
   "execution_count": 7,
   "metadata": {},
   "outputs": [],
   "source": [
    "def rename(name_of_columns,pre_addition):\n",
    "    new_list = []\n",
    "    for x in name_of_columns:\n",
    "        for x in x:\n",
    "            new_list.append(pre_addition+ '' + x)\n",
    "    return new_list"
   ]
  },
  {
   "cell_type": "code",
   "execution_count": 8,
   "metadata": {},
   "outputs": [],
   "source": [
    "new_neigh_group_cat = rename(neigh_group_cat,'neighbourhood_group: ')\n",
    "new_neigh_cat = rename(neigh_cat,'neighbourhood: ')\n",
    "new_room_cat = rename(room_cat,'room_type: ')\n",
    "new_month_group_cat = rename(month_group_cat,'month: ')"
   ]
  },
  {
   "cell_type": "code",
   "execution_count": 9,
   "metadata": {},
   "outputs": [],
   "source": [
    "neigh_group_df = pd.DataFrame(data=neigh_group,columns=new_neigh_group_cat)\n",
    "neigh_df = pd.DataFrame(data=neigh,columns=new_neigh_cat)\n",
    "room_type_df = pd.DataFrame(data=room,columns = new_room_cat)\n",
    "month_df = pd.DataFrame(data=month_group,columns=new_month_group_cat)"
   ]
  },
  {
   "cell_type": "code",
   "execution_count": 10,
   "metadata": {},
   "outputs": [],
   "source": [
    "stopwords_list = stopwords.words('english') + list(string.punctuation)\n",
    "vectorizer = TfidfVectorizer(strip_accents='unicode',stop_words=stopwords_list,min_df=30, ngram_range=(1,3))\n",
    "data_2018.fillna({'name':''}, inplace=True)\n",
    "tf_idf = vectorizer.fit_transform(data_2018['name'])\n",
    "nlp_name = pd.DataFrame(tf_idf.toarray(), columns=vectorizer.get_feature_names())"
   ]
  },
  {
   "cell_type": "code",
   "execution_count": null,
   "metadata": {},
   "outputs": [],
   "source": [
    "clean_data = data_2018.drop(columns = ['id','month','host_name','host_id','last_review','name',\n",
    "month_df"
   ]
  },
  {
   "cell_type": "code",
   "execution_count": 12,
   "metadata": {},
   "outputs": [],
   "source": [
    "clean_data['longitude'] = clean_data['longitude'].round(decimals=5)\n",
    "clean_data['latitude'] = clean_data['latitude'].round(decimals=5)"
   ]
  },
  {
   "cell_type": "code",
   "execution_count": null,
   "metadata": {},
   "outputs": [],
   "source": [
    "clean_data = clean_data.reset_index()"
   ]
  },
  {
   "cell_type": "code",
   "execution_count": null,
   "metadata": {},
   "outputs": [],
   "source": [
    "clean_data = pd.concat([clean_data,neigh_group_df,neigh_df,room_type_df,nlp_name,month_df],axis=1)"
   ]
  },
  {
   "cell_type": "code",
   "execution_count": null,
   "metadata": {},
   "outputs": [],
   "source": [
    "X = clean_data.drop(columns = ['price'])\n",
    "y = clean_data['price']"
   ]
  },
  {
   "cell_type": "code",
   "execution_count": null,
   "metadata": {},
   "outputs": [],
   "source": [
    "ss = StandardScaler()\n",
    "X_ss = ss.fit_transform(X)"
   ]
  },
  {
   "cell_type": "code",
   "execution_count": null,
   "metadata": {},
   "outputs": [],
   "source": [
    "Xtrain,Xtest,ytrain,ytest = train_test_split(X_ss,y)"
   ]
  },
  {
   "cell_type": "code",
   "execution_count": null,
   "metadata": {},
   "outputs": [],
   "source": [
    "clean_data = data_2018.drop(columns = ['id','month','host_name','host_id','last_review','name',\n",
    "                                       'neighbourhood_group','neighbourhood','room_type'])\n"
   ]
  },
  {
   "cell_type": "code",
   "execution_count": null,
   "metadata": {},
   "outputs": [],
   "source": [
    "rfr = RandomForestRegressor(n_estimators=1000,min_samples_split=5,min_samples_leaf=3,random_state=42)\n",
    "rfr.fit(Xtrain,ytrain)\n",
    "rfr.score(Xtrain,ytrain)\n",
    "ypredtrain = rfr.predict(Xtrain)\n",
    "ypredtest = rfr.predict(Xtest)"
   ]
  },
  {
   "cell_type": "code",
   "execution_count": null,
   "metadata": {},
   "outputs": [],
   "source": [
    "from sklearn.metrics import r2_score\n",
    "print(r2_score(ytrain,ypredtrain))\n",
    "print(r2_score(ytest,ypredtest))"
   ]
  },
  {
   "cell_type": "code",
   "execution_count": null,
   "metadata": {},
   "outputs": [],
   "source": []
  },
  {
   "cell_type": "code",
   "execution_count": 40,
   "metadata": {},
   "outputs": [],
   "source": [
    "ids = data_2018.id"
   ]
  },
  {
   "cell_type": "code",
   "execution_count": 38,
   "metadata": {},
   "outputs": [
    {
     "ename": "AttributeError",
     "evalue": "'function' object has no attribute 'reset_index'",
     "output_type": "error",
     "traceback": [
      "\u001b[0;31m---------------------------------------------------------------------------\u001b[0m",
      "\u001b[0;31mAttributeError\u001b[0m                            Traceback (most recent call last)",
      "\u001b[0;32m<ipython-input-38-4d8afa897fd6>\u001b[0m in \u001b[0;36m<module>\u001b[0;34m\u001b[0m\n\u001b[0;32m----> 1\u001b[0;31m \u001b[0mids\u001b[0m \u001b[0;34m=\u001b[0m \u001b[0mids\u001b[0m\u001b[0;34m.\u001b[0m\u001b[0mreset_index\u001b[0m\u001b[0;34m\u001b[0m\u001b[0;34m\u001b[0m\u001b[0m\n\u001b[0m",
      "\u001b[0;31mAttributeError\u001b[0m: 'function' object has no attribute 'reset_index'"
     ]
    }
   ],
   "source": [
    "ids = ids.reset_index"
   ]
  },
  {
   "cell_type": "code",
   "execution_count": 43,
   "metadata": {},
   "outputs": [],
   "source": [
    "ids = pd.DataFrame(ids)"
   ]
  },
  {
   "cell_type": "code",
   "execution_count": 47,
   "metadata": {},
   "outputs": [],
   "source": [
    "ids = ids.reset_index()"
   ]
  },
  {
   "cell_type": "code",
   "execution_count": 50,
   "metadata": {},
   "outputs": [],
   "source": [
    "ids =ids.drop(columns = 'index')"
   ]
  },
  {
   "cell_type": "code",
   "execution_count": 57,
   "metadata": {},
   "outputs": [
    {
     "data": {
      "text/plain": [
       "23748596    8\n",
       "7274556     8\n",
       "20029096    8\n",
       "20934326    8\n",
       "17184477    8\n",
       "           ..\n",
       "30477354    1\n",
       "22772444    1\n",
       "17790080    1\n",
       "23874577    1\n",
       "30133203    1\n",
       "Name: id, Length: 11232, dtype: int64"
      ]
     },
     "execution_count": 57,
     "metadata": {},
     "output_type": "execute_result"
    }
   ],
   "source": [
    "ids['id'].value_counts()s"
   ]
  },
  {
   "cell_type": "code",
   "execution_count": 59,
   "metadata": {},
   "outputs": [
    {
     "data": {
      "text/html": [
       "<div>\n",
       "<style scoped>\n",
       "    .dataframe tbody tr th:only-of-type {\n",
       "        vertical-align: middle;\n",
       "    }\n",
       "\n",
       "    .dataframe tbody tr th {\n",
       "        vertical-align: top;\n",
       "    }\n",
       "\n",
       "    .dataframe thead th {\n",
       "        text-align: right;\n",
       "    }\n",
       "</style>\n",
       "<table border=\"1\" class=\"dataframe\">\n",
       "  <thead>\n",
       "    <tr style=\"text-align: right;\">\n",
       "      <th></th>\n",
       "      <th>id</th>\n",
       "      <th>name</th>\n",
       "      <th>host_id</th>\n",
       "      <th>host_name</th>\n",
       "      <th>neighbourhood_group</th>\n",
       "      <th>neighbourhood</th>\n",
       "      <th>latitude</th>\n",
       "      <th>longitude</th>\n",
       "      <th>room_type</th>\n",
       "      <th>price</th>\n",
       "      <th>minimum_nights</th>\n",
       "      <th>number_of_reviews</th>\n",
       "      <th>last_review</th>\n",
       "      <th>reviews_per_month</th>\n",
       "      <th>calculated_host_listings_count</th>\n",
       "      <th>availability_365</th>\n",
       "      <th>month</th>\n",
       "    </tr>\n",
       "  </thead>\n",
       "  <tbody>\n",
       "    <tr>\n",
       "      <td>7616</td>\n",
       "      <td>23748596</td>\n",
       "      <td>Sonya's House- Apartment 1!</td>\n",
       "      <td>159259469</td>\n",
       "      <td>FengE</td>\n",
       "      <td>Other neighborhoods</td>\n",
       "      <td>Fremont</td>\n",
       "      <td>47.65681</td>\n",
       "      <td>-122.34531</td>\n",
       "      <td>Entire home/apt</td>\n",
       "      <td>100</td>\n",
       "      <td>1</td>\n",
       "      <td>0</td>\n",
       "      <td>NaN</td>\n",
       "      <td>0.00</td>\n",
       "      <td>5</td>\n",
       "      <td>0</td>\n",
       "      <td>april</td>\n",
       "    </tr>\n",
       "    <tr>\n",
       "      <td>7198</td>\n",
       "      <td>23748596</td>\n",
       "      <td>Sonya's House- Apartment 1!</td>\n",
       "      <td>159259469</td>\n",
       "      <td>FengE</td>\n",
       "      <td>Other neighborhoods</td>\n",
       "      <td>Fremont</td>\n",
       "      <td>47.65681</td>\n",
       "      <td>-122.34531</td>\n",
       "      <td>Entire home/apt</td>\n",
       "      <td>100</td>\n",
       "      <td>1</td>\n",
       "      <td>0</td>\n",
       "      <td>NaN</td>\n",
       "      <td>0.00</td>\n",
       "      <td>5</td>\n",
       "      <td>0</td>\n",
       "      <td>may</td>\n",
       "    </tr>\n",
       "    <tr>\n",
       "      <td>7146</td>\n",
       "      <td>23748596</td>\n",
       "      <td>Sonya's House- Apartment 101</td>\n",
       "      <td>159259469</td>\n",
       "      <td>FengE</td>\n",
       "      <td>Other neighborhoods</td>\n",
       "      <td>Fremont</td>\n",
       "      <td>47.65681</td>\n",
       "      <td>-122.34531</td>\n",
       "      <td>Entire home/apt</td>\n",
       "      <td>100</td>\n",
       "      <td>1</td>\n",
       "      <td>12</td>\n",
       "      <td>2018-07-12</td>\n",
       "      <td>6.43</td>\n",
       "      <td>5</td>\n",
       "      <td>142</td>\n",
       "      <td>july</td>\n",
       "    </tr>\n",
       "    <tr>\n",
       "      <td>7042</td>\n",
       "      <td>23748596</td>\n",
       "      <td>Sonya's House- Apartment 101</td>\n",
       "      <td>159259469</td>\n",
       "      <td>FengE</td>\n",
       "      <td>Other neighborhoods</td>\n",
       "      <td>Fremont</td>\n",
       "      <td>47.65681</td>\n",
       "      <td>-122.34531</td>\n",
       "      <td>Entire home/apt</td>\n",
       "      <td>100</td>\n",
       "      <td>1</td>\n",
       "      <td>20</td>\n",
       "      <td>2018-08-07</td>\n",
       "      <td>6.98</td>\n",
       "      <td>5</td>\n",
       "      <td>125</td>\n",
       "      <td>august</td>\n",
       "    </tr>\n",
       "    <tr>\n",
       "      <td>6888</td>\n",
       "      <td>23748596</td>\n",
       "      <td>Sonya's House- Apartment 101</td>\n",
       "      <td>159259469</td>\n",
       "      <td>FengE</td>\n",
       "      <td>Other neighborhoods</td>\n",
       "      <td>Fremont</td>\n",
       "      <td>47.65681</td>\n",
       "      <td>-122.34531</td>\n",
       "      <td>Entire home/apt</td>\n",
       "      <td>100</td>\n",
       "      <td>1</td>\n",
       "      <td>28</td>\n",
       "      <td>2018-09-03</td>\n",
       "      <td>7.30</td>\n",
       "      <td>5</td>\n",
       "      <td>176</td>\n",
       "      <td>september</td>\n",
       "    </tr>\n",
       "    <tr>\n",
       "      <td>6787</td>\n",
       "      <td>23748596</td>\n",
       "      <td>Sonya's House- Apartment 101</td>\n",
       "      <td>159259469</td>\n",
       "      <td>FengE</td>\n",
       "      <td>Other neighborhoods</td>\n",
       "      <td>Fremont</td>\n",
       "      <td>47.65681</td>\n",
       "      <td>-122.34531</td>\n",
       "      <td>Entire home/apt</td>\n",
       "      <td>100</td>\n",
       "      <td>1</td>\n",
       "      <td>33</td>\n",
       "      <td>2018-09-25</td>\n",
       "      <td>6.97</td>\n",
       "      <td>5</td>\n",
       "      <td>142</td>\n",
       "      <td>october</td>\n",
       "    </tr>\n",
       "    <tr>\n",
       "      <td>6647</td>\n",
       "      <td>23748596</td>\n",
       "      <td>Sonya's House- Apartment 101</td>\n",
       "      <td>159259469</td>\n",
       "      <td>FengE</td>\n",
       "      <td>Other neighborhoods</td>\n",
       "      <td>Fremont</td>\n",
       "      <td>47.65681</td>\n",
       "      <td>-122.34531</td>\n",
       "      <td>Entire home/apt</td>\n",
       "      <td>100</td>\n",
       "      <td>1</td>\n",
       "      <td>40</td>\n",
       "      <td>2018-10-28</td>\n",
       "      <td>6.78</td>\n",
       "      <td>5</td>\n",
       "      <td>118</td>\n",
       "      <td>november</td>\n",
       "    </tr>\n",
       "    <tr>\n",
       "      <td>6403</td>\n",
       "      <td>23748596</td>\n",
       "      <td>Sonya's House- Apartment 101</td>\n",
       "      <td>159259469</td>\n",
       "      <td>FengE</td>\n",
       "      <td>Other neighborhoods</td>\n",
       "      <td>Fremont</td>\n",
       "      <td>47.65681</td>\n",
       "      <td>-122.34531</td>\n",
       "      <td>Entire home/apt</td>\n",
       "      <td>100</td>\n",
       "      <td>1</td>\n",
       "      <td>43</td>\n",
       "      <td>2018-12-02</td>\n",
       "      <td>6.29</td>\n",
       "      <td>5</td>\n",
       "      <td>96</td>\n",
       "      <td>december</td>\n",
       "    </tr>\n",
       "  </tbody>\n",
       "</table>\n",
       "</div>"
      ],
      "text/plain": [
       "            id                          name    host_id host_name  \\\n",
       "7616  23748596   Sonya's House- Apartment 1!  159259469     FengE   \n",
       "7198  23748596   Sonya's House- Apartment 1!  159259469     FengE   \n",
       "7146  23748596  Sonya's House- Apartment 101  159259469     FengE   \n",
       "7042  23748596  Sonya's House- Apartment 101  159259469     FengE   \n",
       "6888  23748596  Sonya's House- Apartment 101  159259469     FengE   \n",
       "6787  23748596  Sonya's House- Apartment 101  159259469     FengE   \n",
       "6647  23748596  Sonya's House- Apartment 101  159259469     FengE   \n",
       "6403  23748596  Sonya's House- Apartment 101  159259469     FengE   \n",
       "\n",
       "      neighbourhood_group neighbourhood  latitude  longitude        room_type  \\\n",
       "7616  Other neighborhoods       Fremont  47.65681 -122.34531  Entire home/apt   \n",
       "7198  Other neighborhoods       Fremont  47.65681 -122.34531  Entire home/apt   \n",
       "7146  Other neighborhoods       Fremont  47.65681 -122.34531  Entire home/apt   \n",
       "7042  Other neighborhoods       Fremont  47.65681 -122.34531  Entire home/apt   \n",
       "6888  Other neighborhoods       Fremont  47.65681 -122.34531  Entire home/apt   \n",
       "6787  Other neighborhoods       Fremont  47.65681 -122.34531  Entire home/apt   \n",
       "6647  Other neighborhoods       Fremont  47.65681 -122.34531  Entire home/apt   \n",
       "6403  Other neighborhoods       Fremont  47.65681 -122.34531  Entire home/apt   \n",
       "\n",
       "      price  minimum_nights  number_of_reviews last_review  reviews_per_month  \\\n",
       "7616    100               1                  0         NaN               0.00   \n",
       "7198    100               1                  0         NaN               0.00   \n",
       "7146    100               1                 12  2018-07-12               6.43   \n",
       "7042    100               1                 20  2018-08-07               6.98   \n",
       "6888    100               1                 28  2018-09-03               7.30   \n",
       "6787    100               1                 33  2018-09-25               6.97   \n",
       "6647    100               1                 40  2018-10-28               6.78   \n",
       "6403    100               1                 43  2018-12-02               6.29   \n",
       "\n",
       "      calculated_host_listings_count  availability_365      month  \n",
       "7616                               5                 0      april  \n",
       "7198                               5                 0        may  \n",
       "7146                               5               142       july  \n",
       "7042                               5               125     august  \n",
       "6888                               5               176  september  \n",
       "6787                               5               142    october  \n",
       "6647                               5               118   november  \n",
       "6403                               5                96   december  "
      ]
     },
     "execution_count": 59,
     "metadata": {},
     "output_type": "execute_result"
    }
   ],
   "source": [
    "data_2018[data_2018['id']==23748596]"
   ]
  },
  {
   "cell_type": "code",
   "execution_count": 65,
   "metadata": {},
   "outputs": [],
   "source": [
    "import matplotlib.pyplot as plt\n",
    "from pandasql import sqldf\n",
    "pysqldf = lambda q: sqldf(q, globals())"
   ]
  },
  {
   "cell_type": "code",
   "execution_count": 78,
   "metadata": {},
   "outputs": [],
   "source": [
    "\n",
    "query1 = pysqldf(\"\"\"SELECT month,avg(price) AS price FROM data_2018 group by month\n",
    "            ORDER BY \n",
    "            case \n",
    "                when month = 'april' then 1\n",
    "                when month = 'may' then 2\n",
    "                when month = 'july' then 3\n",
    "                when month = 'august' then 4\n",
    "                when month = 'september' then 5\n",
    "                when month = 'october' then 6\n",
    "                when month = 'november' then 7\n",
    "                else 8\n",
    "                end\"\"\")\n",
    "\n"
   ]
  },
  {
   "cell_type": "code",
   "execution_count": 87,
   "metadata": {},
   "outputs": [
    {
     "data": {
      "text/plain": [
       "<BarContainer object of 8 artists>"
      ]
     },
     "execution_count": 87,
     "metadata": {},
     "output_type": "execute_result"
    },
    {
     "data": {
      "image/png": "[encoded data removed]",
      "text/plain": [
       "<Figure size 432x288 with 1 Axes>"
      ]
     },
     "metadata": {
      "needs_background": "light"
     },
     "output_type": "display_data"
    }
   ],
   "source": [
    "plt.bar(x=query1['month'],height=(query1['price']-148))"
   ]
  },
  {
   "cell_type": "code",
   "execution_count": null,
   "metadata": {},
   "outputs": [],
   "source": []
  }
 ],
 "metadata": {
  "kernelspec": {
   "display_name": "Python 3",
   "language": "python",
   "name": "python3"
  },
  "language_info": {
   "codemirror_mode": {
    "name": "ipython",
    "version": 3
   },
   "file_extension": ".py",
   "mimetype": "text/x-python",
   "name": "python",
   "nbconvert_exporter": "python",
   "pygments_lexer": "ipython3",
   "version": "3.7.4"
  }
 },
 "nbformat": 4,
 "nbformat_minor": 4
}
