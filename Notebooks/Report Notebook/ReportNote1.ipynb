{
 "cells": [
  {
   "cell_type": "markdown",
   "metadata": {},
   "source": [
    "# Final Notebook"
   ]
  },
  {
   "cell_type": "code",
   "execution_count": 1,
   "metadata": {},
   "outputs": [],
   "source": [
    "import pandas as pd\n",
    "import numpy as np\n",
    "import nltk\n",
    "import sklearn\n",
    "import string, re\n",
    "import urllib\n",
    "import seaborn as sbn\n",
    "from sklearn.model_selection import train_test_split, GridSearchCV\n",
    "from sklearn.preprocessing import OneHotEncoder,StandardScaler,LabelEncoder\n",
    "from sklearn.feature_extraction.text import TfidfVectorizer\n",
    "from sklearn.ensemble import RandomForestRegressor\n",
    "from sklearn.decomposition import PCA\n",
    "from nltk.corpus import stopwords\n",
    "import seaborn as sbn\n",
    "import statsmodels\n",
    "import statsmodels.api as sm\n",
    "import matplotlib.pyplot as plt\n",
    "import scipy.stats as stats"
   ]
  },
  {
   "cell_type": "markdown",
   "metadata": {},
   "source": [
    "## Import Data Saved in Data Folder into a Pandas DataFrame"
   ]
  },
  {
   "cell_type": "code",
   "execution_count": 2,
   "metadata": {},
   "outputs": [],
   "source": [
    "data = pd.read_csv('../../Data/2019/listings122019long.csv')"
   ]
  },
  {
   "cell_type": "markdown",
   "metadata": {},
   "source": [
    "## Drop Columns That Are Not Needed"
   ]
  },
  {
   "cell_type": "markdown",
   "metadata": {},
   "source": [
    "These columns consist of images, extra user descriptions of their properties, prices based on extended lengths of time and various other descriptors that are too specific to properties or that I just have not had enough time to go through at this point."
   ]
  },
  {
   "cell_type": "code",
   "execution_count": 3,
   "metadata": {},
   "outputs": [],
   "source": [
    "data1 = data.drop(columns=['listing_url','scrape_id','last_scraped','summary','space','description','experiences_offered',\n",
    "                           'neighborhood_overview','notes','transit','access','interaction','house_rules',\n",
    "                           'thumbnail_url','medium_url','picture_url','xl_picture_url','host_id','host_url',\n",
    "                           'host_name','host_since', 'host_location','host_about','host_response_time','host_response_rate',\n",
    "                           'host_acceptance_rate', 'host_thumbnail_url','host_picture_url', 'host_neighbourhood',\n",
    "                           'host_listings_count','host_total_listings_count', 'host_verifications','host_has_profile_pic',\n",
    "                           'host_identity_verified','street', 'city','state','zipcode','market','country_code',\n",
    "                           'country', 'is_location_exact','bed_type','amenities','square_feet','weekly_price',\n",
    "                           'monthly_price','security_deposit','guests_included','extra_people','maximum_nights',\n",
    "                           'minimum_minimum_nights','maximum_minimum_nights', 'minimum_maximum_nights', 'maximum_maximum_nights',\n",
    "                           'minimum_nights_avg_ntm', 'maximum_nights_avg_ntm', 'calendar_updated', 'has_availability',\n",
    "                           'availability_30', 'availability_60', 'availability_90', 'availability_365', 'calendar_last_scraped','first_review',\n",
    "                           'last_review','review_scores_accuracy', 'review_scores_cleanliness', 'review_scores_checkin',\n",
    "                           'review_scores_communication', 'review_scores_location','requires_license', 'license',\n",
    "                           'jurisdiction_names', 'instant_bookable', 'is_business_travel_ready', 'cancellation_policy',\n",
    "                           'require_guest_profile_picture', 'require_guest_phone_verification', 'calculated_host_listings_count',\n",
    "                           'calculated_host_listings_count_entire_homes', 'calculated_host_listings_count_private_rooms',\n",
    "                           'calculated_host_listings_count_shared_rooms', 'neighbourhood','smart_location','id','property_type'\n",
    "                          ])"
   ]
  },
  {
   "cell_type": "markdown",
   "metadata": {},
   "source": [
    "## Change Price to Numerical and Get rid of NaNs in data"
   ]
  },
  {
   "cell_type": "markdown",
   "metadata": {},
   "source": [
    "To use this data in a regression model I cannot have any columns that are not numbers."
   ]
  },
  {
   "cell_type": "code",
   "execution_count": 4,
   "metadata": {},
   "outputs": [],
   "source": [
    "data1['price'] = data1['price'].str.extract('(\\d+)', expand=False).astype('float')"
   ]
  },
  {
   "cell_type": "code",
   "execution_count": 5,
   "metadata": {},
   "outputs": [],
   "source": [
    "data1['cleaning_fee'] = data1['cleaning_fee'].str.extract('(\\d+)', expand=False).astype('float')"
   ]
  },
  {
   "cell_type": "code",
   "execution_count": 6,
   "metadata": {},
   "outputs": [],
   "source": [
    "data1['host_is_superhost'] = (data1['host_is_superhost'] == 't').astype('int')"
   ]
  },
  {
   "cell_type": "code",
   "execution_count": 7,
   "metadata": {},
   "outputs": [],
   "source": [
    "data1['reviews_per_month'] = data1['reviews_per_month'].fillna(0)\n",
    "data1['bathrooms'] = data1['bathrooms'].fillna(data1['bathrooms'].mean())\n",
    "data1['bedrooms'] = data1['bedrooms'].fillna(data1['bedrooms'].mean())\n",
    "data1['beds'] = data1['beds'].fillna(data1['beds'].mean())\n",
    "data1['cleaning_fee'] = data1['cleaning_fee'].fillna(data1['cleaning_fee'].mean())\n",
    "data1['review_scores_rating'] = data1['review_scores_rating'].fillna(0)"
   ]
  },
  {
   "cell_type": "code",
   "execution_count": 8,
   "metadata": {},
   "outputs": [],
   "source": [
    "data1['longitude'] = data1['longitude'].round(decimals=5)\n",
    "data1['latitude'] = data1['latitude'].round(decimals=5)"
   ]
  },
  {
   "cell_type": "code",
   "execution_count": 9,
   "metadata": {},
   "outputs": [],
   "source": [
    "data1 = data1[data1.minimum_nights<31]"
   ]
  },
  {
   "cell_type": "markdown",
   "metadata": {},
   "source": [
    "# Vectorize Categorical Variables"
   ]
  },
  {
   "cell_type": "markdown",
   "metadata": {},
   "source": [
    "For descriptive features that are repetitive I used OneHotEncoding to create their own DataFrames that let me know if the descriptor was used in a row or not."
   ]
  },
  {
   "cell_type": "code",
   "execution_count": 10,
   "metadata": {},
   "outputs": [],
   "source": [
    "ohe = OneHotEncoder(sparse=False)\n",
    "neigh_group = ohe.fit_transform(data1[['neighbourhood_group_cleansed']])\n",
    "neigh_group_cat = ohe.categories_\n",
    "neigh = ohe.fit_transform(data1[['neighbourhood_cleansed']])\n",
    "neigh_cat = ohe.categories_\n",
    "room = ohe.fit_transform(data1[['room_type']])\n",
    "room_cat = ohe.categories_\n",
    "minimum = ohe.fit_transform(data1[['minimum_nights']])\n",
    "minimum_cat = ohe.categories_"
   ]
  },
  {
   "cell_type": "code",
   "execution_count": 11,
   "metadata": {},
   "outputs": [],
   "source": [
    "minimum_cat = minimum_cat[0].astype('str')"
   ]
  },
  {
   "cell_type": "code",
   "execution_count": 12,
   "metadata": {},
   "outputs": [],
   "source": [
    "minimum_cat = list(minimum_cat)"
   ]
  },
  {
   "cell_type": "code",
   "execution_count": 13,
   "metadata": {},
   "outputs": [],
   "source": [
    "new_minimum_cat = [(lambda x : f'minimum_nights: {x}')(x) for x in range(len(minimum_cat))]"
   ]
  },
  {
   "cell_type": "code",
   "execution_count": 14,
   "metadata": {},
   "outputs": [],
   "source": [
    "def rename(name_of_columns,pre_addition):\n",
    "    new_list = []\n",
    "    for x in name_of_columns:\n",
    "        for x in x:\n",
    "            new_list.append(pre_addition+ '' + x)\n",
    "    return new_list"
   ]
  },
  {
   "cell_type": "code",
   "execution_count": 15,
   "metadata": {},
   "outputs": [],
   "source": [
    "new_neigh_group_cat = rename(neigh_group_cat,'neighbourhood_group: ')\n",
    "new_neigh_cat = rename(neigh_cat,'neighbourhood: ')\n",
    "new_room_cat = rename(room_cat,'room_type: ')"
   ]
  },
  {
   "cell_type": "code",
   "execution_count": 16,
   "metadata": {},
   "outputs": [],
   "source": [
    "# Create categories for neighborhood_group, neighborhood and room_type\n",
    "neigh_group_df = pd.DataFrame(data=neigh_group,columns=new_neigh_group_cat)\n",
    "neigh_df = pd.DataFrame(data=neigh,columns=new_neigh_cat)\n",
    "room_type_df = pd.DataFrame(data=room,columns = new_room_cat)\n",
    "minimum_df = pd.DataFrame(data=minimum,columns=new_minimum_cat)"
   ]
  },
  {
   "cell_type": "markdown",
   "metadata": {},
   "source": [
    "# NLP for Name Category"
   ]
  },
  {
   "cell_type": "markdown",
   "metadata": {},
   "source": [
    "For the 'name' feature I used a Natural Language Processing to Vectorize key words that people included both individually and in groups."
   ]
  },
  {
   "cell_type": "code",
   "execution_count": 17,
   "metadata": {},
   "outputs": [],
   "source": [
    "stopwords_list = stopwords.words('english') + list(string.punctuation)\n",
    "vectorizer = TfidfVectorizer(strip_accents='unicode',stop_words=stopwords_list,min_df=60,max_df = 800, ngram_range=(1,3))\n",
    "# get rid of na in name column\n",
    "data1.fillna({'name':''}, inplace=True)\n",
    "tf_idf = vectorizer.fit_transform(data['name'])\n",
    "nlp_name = pd.DataFrame(tf_idf.toarray(), columns=vectorizer.get_feature_names())"
   ]
  },
  {
   "cell_type": "code",
   "execution_count": 65,
   "metadata": {},
   "outputs": [
    {
     "data": {
      "text/html": [
       "<div>\n",
       "<style scoped>\n",
       "    .dataframe tbody tr th:only-of-type {\n",
       "        vertical-align: middle;\n",
       "    }\n",
       "\n",
       "    .dataframe tbody tr th {\n",
       "        vertical-align: top;\n",
       "    }\n",
       "\n",
       "    .dataframe thead th {\n",
       "        text-align: right;\n",
       "    }\n",
       "</style>\n",
       "<table border=\"1\" class=\"dataframe\">\n",
       "  <thead>\n",
       "    <tr style=\"text-align: right;\">\n",
       "      <th></th>\n",
       "      <th>10</th>\n",
       "      <th>100</th>\n",
       "      <th>100 walkscore</th>\n",
       "      <th>1bd</th>\n",
       "      <th>1br</th>\n",
       "      <th>2bd</th>\n",
       "      <th>2br</th>\n",
       "      <th>airport</th>\n",
       "      <th>alfred</th>\n",
       "      <th>alfred pike</th>\n",
       "      <th>...</th>\n",
       "      <th>view</th>\n",
       "      <th>views</th>\n",
       "      <th>walk</th>\n",
       "      <th>walkscore</th>\n",
       "      <th>wallingford</th>\n",
       "      <th>washington</th>\n",
       "      <th>water</th>\n",
       "      <th>waterfront</th>\n",
       "      <th>west</th>\n",
       "      <th>west seattle</th>\n",
       "    </tr>\n",
       "  </thead>\n",
       "  <tbody>\n",
       "    <tr>\n",
       "      <td>13</td>\n",
       "      <td>0.0</td>\n",
       "      <td>0.0</td>\n",
       "      <td>0.0</td>\n",
       "      <td>0.0</td>\n",
       "      <td>0.0</td>\n",
       "      <td>0.0</td>\n",
       "      <td>0.0</td>\n",
       "      <td>0.0</td>\n",
       "      <td>0.0</td>\n",
       "      <td>0.0</td>\n",
       "      <td>...</td>\n",
       "      <td>0.0</td>\n",
       "      <td>0.0</td>\n",
       "      <td>0.0</td>\n",
       "      <td>0.0</td>\n",
       "      <td>0.0</td>\n",
       "      <td>0.0</td>\n",
       "      <td>0.0</td>\n",
       "      <td>0.0</td>\n",
       "      <td>0.618141</td>\n",
       "      <td>0.625877</td>\n",
       "    </tr>\n",
       "  </tbody>\n",
       "</table>\n",
       "<p>1 rows × 170 columns</p>\n",
       "</div>"
      ],
      "text/plain": [
       "     10  100  100 walkscore  1bd  1br  2bd  2br  airport  alfred  alfred pike  \\\n",
       "13  0.0  0.0            0.0  0.0  0.0  0.0  0.0      0.0     0.0          0.0   \n",
       "\n",
       "    ...  view  views  walk  walkscore  wallingford  washington  water  \\\n",
       "13  ...   0.0    0.0   0.0        0.0          0.0         0.0    0.0   \n",
       "\n",
       "    waterfront      west  west seattle  \n",
       "13         0.0  0.618141      0.625877  \n",
       "\n",
       "[1 rows x 170 columns]"
      ]
     },
     "execution_count": 65,
     "metadata": {},
     "output_type": "execute_result"
    }
   ],
   "source": [
    "nlp_name[13:14]"
   ]
  },
  {
   "cell_type": "markdown",
   "metadata": {},
   "source": [
    "# Reconnect DataFrames / Drop Duplicates"
   ]
  },
  {
   "cell_type": "code",
   "execution_count": 18,
   "metadata": {},
   "outputs": [],
   "source": [
    "clean_data = pd.concat([data1,neigh_group_df,neigh_df,room_type_df,nlp_name,minimum_df],axis=1)"
   ]
  },
  {
   "cell_type": "code",
   "execution_count": 19,
   "metadata": {},
   "outputs": [],
   "source": [
    "clean_data = clean_data.drop(columns=['name','neighbourhood_cleansed','minimum_nights',\n",
    "                                      'neighbourhood_group_cleansed','room_type'])"
   ]
  },
  {
   "cell_type": "markdown",
   "metadata": {},
   "source": [
    "# Remove New/ Unsuccessful Properties"
   ]
  },
  {
   "cell_type": "markdown",
   "metadata": {},
   "source": [
    "Since the purpose of this project was to get a prediction of someones property that would be successful, I removed properties that had a review score rating below 60 out of 100."
   ]
  },
  {
   "cell_type": "code",
   "execution_count": 20,
   "metadata": {},
   "outputs": [],
   "source": [
    "clean_data = clean_data[clean_data.review_scores_rating>60]"
   ]
  },
  {
   "cell_type": "markdown",
   "metadata": {},
   "source": [
    "I then had to remove some properties that were drastic outlier with prices of 0 or 9999/per night. Some of these high price properties that I removed were for renting our resorts or venues instead of private homes. As for the rest of the these outliers I am not sure if these were input errors or if the website/ user had them for rediculous prices to avoid changing availibility. Visualization of these outliers can be seen below under Visualize Data."
   ]
  },
  {
   "cell_type": "code",
   "execution_count": 21,
   "metadata": {},
   "outputs": [],
   "source": [
    "clean_data = clean_data[clean_data.price>20]\n",
    "clean_data = clean_data[clean_data.price<800]\n",
    "clean_data = clean_data.dropna()"
   ]
  },
  {
   "cell_type": "markdown",
   "metadata": {},
   "source": [
    "# Visualize Data"
   ]
  },
  {
   "cell_type": "code",
   "execution_count": 52,
   "metadata": {},
   "outputs": [
    {
     "data": {
      "image/png": "[encoded data removed]",
      "text/plain": [
       "<Figure size 1512x432 with 3 Axes>"
      ]
     },
     "metadata": {
      "needs_background": "light"
     },
     "output_type": "display_data"
    }
   ],
   "source": [
    "fig, axes = plt.subplots(1,3, figsize=(21,6))\n",
    "sbn.distplot(data1['price'], ax=axes[0])\n",
    "axes[0].set_xlabel('Price w/ Outliers')\n",
    "sbn.distplot(clean_data['price'], ax=axes[1])\n",
    "axes[1].set_xlabel('Price w/o Outliers')\n",
    "sbn.scatterplot(x= clean_data['latitude'], y=clean_data['longitude'],hue=clean_data['price'],ax=axes[2]);"
   ]
  },
  {
   "cell_type": "markdown",
   "metadata": {},
   "source": [
    "# Train Test Split"
   ]
  },
  {
   "cell_type": "code",
   "execution_count": 24,
   "metadata": {},
   "outputs": [],
   "source": [
    "ss = StandardScaler()\n",
    "X = clean_data.drop(columns=['price','number_of_reviews_ltm','review_scores_rating',\n",
    "                             'review_scores_value','reviews_per_month'])\n",
    "Xss = ss.fit_transform(X)\n",
    "y = clean_data['price']\n",
    "Xtrain,Xtest,ytrain,ytest = train_test_split(Xss,y,test_size = .05,random_state=11)"
   ]
  },
  {
   "cell_type": "markdown",
   "metadata": {},
   "source": [
    "# Random Forest"
   ]
  },
  {
   "cell_type": "code",
   "execution_count": 37,
   "metadata": {},
   "outputs": [
    {
     "data": {
      "text/plain": [
       "0.8829890440246375"
      ]
     },
     "execution_count": 37,
     "metadata": {},
     "output_type": "execute_result"
    }
   ],
   "source": [
    "rfr = RandomForestRegressor(n_estimators=400,min_samples_split=5,min_samples_leaf=3,random_state=11)\n",
    "rfr.fit(Xtrain,ytrain)\n",
    "rfr.score(Xtrain,ytrain)"
   ]
  },
  {
   "cell_type": "code",
   "execution_count": 38,
   "metadata": {},
   "outputs": [],
   "source": [
    "ypredtrain = rfr.predict(Xtrain)\n",
    "ypredtest = rfr.predict(Xtest)"
   ]
  },
  {
   "cell_type": "code",
   "execution_count": 39,
   "metadata": {},
   "outputs": [
    {
     "name": "stdout",
     "output_type": "stream",
     "text": [
      "0.8829890440246375\n",
      "0.6702862849311708\n"
     ]
    }
   ],
   "source": [
    "from sklearn.metrics import r2_score, explained_variance_score,mean_absolute_error,mean_squared_error\n",
    "print(r2_score(ytrain,ypredtrain))\n",
    "print(r2_score(ytest,ypredtest))"
   ]
  },
  {
   "cell_type": "code",
   "execution_count": 42,
   "metadata": {},
   "outputs": [
    {
     "data": {
      "text/plain": [
       "[(0.35144037222536934, 'bedrooms'),\n",
       " (0.15947828725352325, 'cleaning_fee'),\n",
       " (0.07524200465507984, 'latitude'),\n",
       " (0.05502474742580563, 'bathrooms'),\n",
       " (0.05106904582674603, 'accommodates'),\n",
       " (0.046951777897031345, 'longitude'),\n",
       " (0.03591560402042651, 'number_of_reviews'),\n",
       " (0.01753515915313084, 'suites'),\n",
       " (0.011159456188863819, 'beds'),\n",
       " (0.009359603723938431, 'views')]"
      ]
     },
     "execution_count": 42,
     "metadata": {},
     "output_type": "execute_result"
    }
   ],
   "source": [
    "sorted(list(zip(rfr.feature_importances_,X.columns)),reverse=True)[0:10]"
   ]
  },
  {
   "cell_type": "code",
   "execution_count": 41,
   "metadata": {},
   "outputs": [
    {
     "data": {
      "text/plain": [
       "[(80.0, 105.54691378066379),\n",
       " (224.0, 166.57036823593072),\n",
       " (85.0, 67.81734956709957),\n",
       " (169.0, 171.9980995670996),\n",
       " (85.0, 84.55059559884559),\n",
       " (95.0, 82.6176356906982),\n",
       " (299.0, 217.60385203440367),\n",
       " (125.0, 203.17849377011873),\n",
       " (99.0, 93.93652862415352),\n",
       " (85.0, 90.01855639499392)]"
      ]
     },
     "execution_count": 41,
     "metadata": {},
     "output_type": "execute_result"
    }
   ],
   "source": [
    "list(zip(ytest,ypredtest))[0:10]"
   ]
  },
  {
   "cell_type": "code",
   "execution_count": 40,
   "metadata": {},
   "outputs": [],
   "source": [
    "Xtrain,Xtest,ytrain,ytest = train_test_split(X,y,test_size = .05,random_state=11)"
   ]
  },
  {
   "cell_type": "code",
   "execution_count": 49,
   "metadata": {},
   "outputs": [
    {
     "data": {
      "text/html": [
       "<div>\n",
       "<style scoped>\n",
       "    .dataframe tbody tr th:only-of-type {\n",
       "        vertical-align: middle;\n",
       "    }\n",
       "\n",
       "    .dataframe tbody tr th {\n",
       "        vertical-align: top;\n",
       "    }\n",
       "\n",
       "    .dataframe thead th {\n",
       "        text-align: right;\n",
       "    }\n",
       "</style>\n",
       "<table border=\"1\" class=\"dataframe\">\n",
       "  <thead>\n",
       "    <tr style=\"text-align: right;\">\n",
       "      <th></th>\n",
       "      <th>host_is_superhost</th>\n",
       "      <th>latitude</th>\n",
       "      <th>longitude</th>\n",
       "      <th>accommodates</th>\n",
       "      <th>bathrooms</th>\n",
       "      <th>bedrooms</th>\n",
       "      <th>beds</th>\n",
       "      <th>cleaning_fee</th>\n",
       "      <th>number_of_reviews</th>\n",
       "      <th>neighbourhood_group: Ballard</th>\n",
       "      <th>...</th>\n",
       "      <th>minimum_nights: 9</th>\n",
       "      <th>minimum_nights: 10</th>\n",
       "      <th>minimum_nights: 11</th>\n",
       "      <th>minimum_nights: 12</th>\n",
       "      <th>minimum_nights: 13</th>\n",
       "      <th>minimum_nights: 14</th>\n",
       "      <th>minimum_nights: 15</th>\n",
       "      <th>minimum_nights: 16</th>\n",
       "      <th>minimum_nights: 17</th>\n",
       "      <th>minimum_nights: 18</th>\n",
       "    </tr>\n",
       "  </thead>\n",
       "  <tbody>\n",
       "    <tr>\n",
       "      <td>285</td>\n",
       "      <td>1.0</td>\n",
       "      <td>47.61242</td>\n",
       "      <td>-122.34378</td>\n",
       "      <td>3.0</td>\n",
       "      <td>1.0</td>\n",
       "      <td>1.0</td>\n",
       "      <td>1.0</td>\n",
       "      <td>35.0</td>\n",
       "      <td>529.0</td>\n",
       "      <td>1.0</td>\n",
       "      <td>...</td>\n",
       "      <td>0.0</td>\n",
       "      <td>0.0</td>\n",
       "      <td>0.0</td>\n",
       "      <td>0.0</td>\n",
       "      <td>0.0</td>\n",
       "      <td>0.0</td>\n",
       "      <td>0.0</td>\n",
       "      <td>0.0</td>\n",
       "      <td>0.0</td>\n",
       "      <td>1.0</td>\n",
       "    </tr>\n",
       "    <tr>\n",
       "      <td>7225</td>\n",
       "      <td>1.0</td>\n",
       "      <td>47.63308</td>\n",
       "      <td>-122.37194</td>\n",
       "      <td>4.0</td>\n",
       "      <td>1.0</td>\n",
       "      <td>2.0</td>\n",
       "      <td>2.0</td>\n",
       "      <td>130.0</td>\n",
       "      <td>2.0</td>\n",
       "      <td>0.0</td>\n",
       "      <td>...</td>\n",
       "      <td>0.0</td>\n",
       "      <td>0.0</td>\n",
       "      <td>0.0</td>\n",
       "      <td>0.0</td>\n",
       "      <td>0.0</td>\n",
       "      <td>0.0</td>\n",
       "      <td>0.0</td>\n",
       "      <td>0.0</td>\n",
       "      <td>0.0</td>\n",
       "      <td>1.0</td>\n",
       "    </tr>\n",
       "    <tr>\n",
       "      <td>7711</td>\n",
       "      <td>1.0</td>\n",
       "      <td>47.69473</td>\n",
       "      <td>-122.36739</td>\n",
       "      <td>1.0</td>\n",
       "      <td>1.0</td>\n",
       "      <td>1.0</td>\n",
       "      <td>1.0</td>\n",
       "      <td>30.0</td>\n",
       "      <td>1.0</td>\n",
       "      <td>0.0</td>\n",
       "      <td>...</td>\n",
       "      <td>0.0</td>\n",
       "      <td>0.0</td>\n",
       "      <td>0.0</td>\n",
       "      <td>0.0</td>\n",
       "      <td>0.0</td>\n",
       "      <td>0.0</td>\n",
       "      <td>0.0</td>\n",
       "      <td>0.0</td>\n",
       "      <td>0.0</td>\n",
       "      <td>0.0</td>\n",
       "    </tr>\n",
       "    <tr>\n",
       "      <td>4043</td>\n",
       "      <td>0.0</td>\n",
       "      <td>47.61581</td>\n",
       "      <td>-122.32788</td>\n",
       "      <td>3.0</td>\n",
       "      <td>1.0</td>\n",
       "      <td>1.0</td>\n",
       "      <td>1.0</td>\n",
       "      <td>89.0</td>\n",
       "      <td>2.0</td>\n",
       "      <td>0.0</td>\n",
       "      <td>...</td>\n",
       "      <td>0.0</td>\n",
       "      <td>0.0</td>\n",
       "      <td>0.0</td>\n",
       "      <td>0.0</td>\n",
       "      <td>0.0</td>\n",
       "      <td>0.0</td>\n",
       "      <td>0.0</td>\n",
       "      <td>0.0</td>\n",
       "      <td>0.0</td>\n",
       "      <td>1.0</td>\n",
       "    </tr>\n",
       "    <tr>\n",
       "      <td>584</td>\n",
       "      <td>1.0</td>\n",
       "      <td>47.67212</td>\n",
       "      <td>-122.36501</td>\n",
       "      <td>2.0</td>\n",
       "      <td>1.0</td>\n",
       "      <td>0.0</td>\n",
       "      <td>1.0</td>\n",
       "      <td>30.0</td>\n",
       "      <td>216.0</td>\n",
       "      <td>0.0</td>\n",
       "      <td>...</td>\n",
       "      <td>0.0</td>\n",
       "      <td>1.0</td>\n",
       "      <td>0.0</td>\n",
       "      <td>0.0</td>\n",
       "      <td>0.0</td>\n",
       "      <td>0.0</td>\n",
       "      <td>0.0</td>\n",
       "      <td>0.0</td>\n",
       "      <td>0.0</td>\n",
       "      <td>0.0</td>\n",
       "    </tr>\n",
       "    <tr>\n",
       "      <td>3602</td>\n",
       "      <td>0.0</td>\n",
       "      <td>47.61949</td>\n",
       "      <td>-122.30869</td>\n",
       "      <td>2.0</td>\n",
       "      <td>1.0</td>\n",
       "      <td>1.0</td>\n",
       "      <td>1.0</td>\n",
       "      <td>30.0</td>\n",
       "      <td>3.0</td>\n",
       "      <td>1.0</td>\n",
       "      <td>...</td>\n",
       "      <td>0.0</td>\n",
       "      <td>0.0</td>\n",
       "      <td>0.0</td>\n",
       "      <td>0.0</td>\n",
       "      <td>0.0</td>\n",
       "      <td>0.0</td>\n",
       "      <td>0.0</td>\n",
       "      <td>0.0</td>\n",
       "      <td>0.0</td>\n",
       "      <td>1.0</td>\n",
       "    </tr>\n",
       "    <tr>\n",
       "      <td>649</td>\n",
       "      <td>1.0</td>\n",
       "      <td>47.59198</td>\n",
       "      <td>-122.30718</td>\n",
       "      <td>6.0</td>\n",
       "      <td>2.5</td>\n",
       "      <td>3.0</td>\n",
       "      <td>3.0</td>\n",
       "      <td>99.0</td>\n",
       "      <td>495.0</td>\n",
       "      <td>0.0</td>\n",
       "      <td>...</td>\n",
       "      <td>0.0</td>\n",
       "      <td>0.0</td>\n",
       "      <td>0.0</td>\n",
       "      <td>0.0</td>\n",
       "      <td>0.0</td>\n",
       "      <td>0.0</td>\n",
       "      <td>0.0</td>\n",
       "      <td>0.0</td>\n",
       "      <td>0.0</td>\n",
       "      <td>0.0</td>\n",
       "    </tr>\n",
       "    <tr>\n",
       "      <td>5586</td>\n",
       "      <td>0.0</td>\n",
       "      <td>47.57235</td>\n",
       "      <td>-122.31458</td>\n",
       "      <td>8.0</td>\n",
       "      <td>2.0</td>\n",
       "      <td>3.0</td>\n",
       "      <td>3.0</td>\n",
       "      <td>75.0</td>\n",
       "      <td>61.0</td>\n",
       "      <td>0.0</td>\n",
       "      <td>...</td>\n",
       "      <td>0.0</td>\n",
       "      <td>0.0</td>\n",
       "      <td>0.0</td>\n",
       "      <td>0.0</td>\n",
       "      <td>0.0</td>\n",
       "      <td>0.0</td>\n",
       "      <td>0.0</td>\n",
       "      <td>0.0</td>\n",
       "      <td>0.0</td>\n",
       "      <td>0.0</td>\n",
       "    </tr>\n",
       "  </tbody>\n",
       "</table>\n",
       "<p>8 rows × 308 columns</p>\n",
       "</div>"
      ],
      "text/plain": [
       "      host_is_superhost  latitude  longitude  accommodates  bathrooms  \\\n",
       "285                 1.0  47.61242 -122.34378           3.0        1.0   \n",
       "7225                1.0  47.63308 -122.37194           4.0        1.0   \n",
       "7711                1.0  47.69473 -122.36739           1.0        1.0   \n",
       "4043                0.0  47.61581 -122.32788           3.0        1.0   \n",
       "584                 1.0  47.67212 -122.36501           2.0        1.0   \n",
       "3602                0.0  47.61949 -122.30869           2.0        1.0   \n",
       "649                 1.0  47.59198 -122.30718           6.0        2.5   \n",
       "5586                0.0  47.57235 -122.31458           8.0        2.0   \n",
       "\n",
       "      bedrooms  beds  cleaning_fee  number_of_reviews  \\\n",
       "285        1.0   1.0          35.0              529.0   \n",
       "7225       2.0   2.0         130.0                2.0   \n",
       "7711       1.0   1.0          30.0                1.0   \n",
       "4043       1.0   1.0          89.0                2.0   \n",
       "584        0.0   1.0          30.0              216.0   \n",
       "3602       1.0   1.0          30.0                3.0   \n",
       "649        3.0   3.0          99.0              495.0   \n",
       "5586       3.0   3.0          75.0               61.0   \n",
       "\n",
       "      neighbourhood_group: Ballard  ...  minimum_nights: 9  \\\n",
       "285                            1.0  ...                0.0   \n",
       "7225                           0.0  ...                0.0   \n",
       "7711                           0.0  ...                0.0   \n",
       "4043                           0.0  ...                0.0   \n",
       "584                            0.0  ...                0.0   \n",
       "3602                           1.0  ...                0.0   \n",
       "649                            0.0  ...                0.0   \n",
       "5586                           0.0  ...                0.0   \n",
       "\n",
       "      minimum_nights: 10  minimum_nights: 11  minimum_nights: 12  \\\n",
       "285                  0.0                 0.0                 0.0   \n",
       "7225                 0.0                 0.0                 0.0   \n",
       "7711                 0.0                 0.0                 0.0   \n",
       "4043                 0.0                 0.0                 0.0   \n",
       "584                  1.0                 0.0                 0.0   \n",
       "3602                 0.0                 0.0                 0.0   \n",
       "649                  0.0                 0.0                 0.0   \n",
       "5586                 0.0                 0.0                 0.0   \n",
       "\n",
       "      minimum_nights: 13  minimum_nights: 14  minimum_nights: 15  \\\n",
       "285                  0.0                 0.0                 0.0   \n",
       "7225                 0.0                 0.0                 0.0   \n",
       "7711                 0.0                 0.0                 0.0   \n",
       "4043                 0.0                 0.0                 0.0   \n",
       "584                  0.0                 0.0                 0.0   \n",
       "3602                 0.0                 0.0                 0.0   \n",
       "649                  0.0                 0.0                 0.0   \n",
       "5586                 0.0                 0.0                 0.0   \n",
       "\n",
       "      minimum_nights: 16  minimum_nights: 17  minimum_nights: 18  \n",
       "285                  0.0                 0.0                 1.0  \n",
       "7225                 0.0                 0.0                 1.0  \n",
       "7711                 0.0                 0.0                 0.0  \n",
       "4043                 0.0                 0.0                 1.0  \n",
       "584                  0.0                 0.0                 0.0  \n",
       "3602                 0.0                 0.0                 1.0  \n",
       "649                  0.0                 0.0                 0.0  \n",
       "5586                 0.0                 0.0                 0.0  \n",
       "\n",
       "[8 rows x 308 columns]"
      ]
     },
     "execution_count": 49,
     "metadata": {},
     "output_type": "execute_result"
    }
   ],
   "source": [
    "Xtest.head(8)"
   ]
  },
  {
   "cell_type": "markdown",
   "metadata": {},
   "source": [
    "# Neural Net"
   ]
  },
  {
   "cell_type": "code",
   "execution_count": 31,
   "metadata": {},
   "outputs": [],
   "source": [
    "from tensorflow.python.keras.models import Sequential\n",
    "from tensorflow.python.keras.layers import Dense\n",
    "from tensorflow.python.keras.layers import Dropout\n",
    "from tensorflow.python.keras.wrappers.scikit_learn import KerasRegressor\n",
    "from sklearn.model_selection import KFold"
   ]
  },
  {
   "cell_type": "code",
   "execution_count": 65,
   "metadata": {},
   "outputs": [
    {
     "name": "stdout",
     "output_type": "stream",
     "text": [
      "Model: \"sequential_2\"\n",
      "_________________________________________________________________\n",
      "Layer (type)                 Output Shape              Param #   \n",
      "=================================================================\n",
      "dense_6 (Dense)              (None, 308)               95172     \n",
      "_________________________________________________________________\n",
      "dense_7 (Dense)              (None, 200)               61800     \n",
      "_________________________________________________________________\n",
      "dense_8 (Dense)              (None, 100)               20100     \n",
      "_________________________________________________________________\n",
      "dense_9 (Dense)              (None, 20)                2020      \n",
      "_________________________________________________________________\n",
      "dense_10 (Dense)             (None, 1)                 21        \n",
      "=================================================================\n",
      "Total params: 179,113\n",
      "Trainable params: 179,113\n",
      "Non-trainable params: 0\n",
      "_________________________________________________________________\n"
     ]
    }
   ],
   "source": [
    "model = Sequential()\n",
    "model.add(Dense(len(X.columns), input_dim=len(X.columns), kernel_initializer='normal', activation='relu'))\n",
    "model.add(Dense(200,activation='relu'))\n",
    "model.add(Dense(100,activation='relu'))\n",
    "model.add(Dense(20,activation='relu'))\n",
    "model.add(Dense(1, activation='linear'))\n",
    "model.summary()"
   ]
  },
  {
   "cell_type": "code",
   "execution_count": 66,
   "metadata": {},
   "outputs": [],
   "source": [
    "model.compile(loss='mse', optimizer='adam', metrics=['mse','mae'])"
   ]
  },
  {
   "cell_type": "code",
   "execution_count": 67,
   "metadata": {},
   "outputs": [],
   "source": [
    "history = model.fit(Xtrain, ytrain, epochs=100, batch_size=3,  verbose=0, validation_split=0.2)"
   ]
  },
  {
   "cell_type": "code",
   "execution_count": 68,
   "metadata": {},
   "outputs": [],
   "source": [
    "nnpreds = []\n",
    "for x in model.predict(Xtest):\n",
    "    for x in x:\n",
    "        nnpreds.append(x)"
   ]
  },
  {
   "cell_type": "code",
   "execution_count": 69,
   "metadata": {},
   "outputs": [
    {
     "data": {
      "text/plain": [
       "7.768100327711839"
      ]
     },
     "execution_count": 69,
     "metadata": {},
     "output_type": "execute_result"
    }
   ],
   "source": [
    "abs(sum(ytest)-sum(nnpreds))/len(ytest)"
   ]
  },
  {
   "cell_type": "code",
   "execution_count": 70,
   "metadata": {},
   "outputs": [
    {
     "name": "stdout",
     "output_type": "stream",
     "text": [
      "0.6670197026227429\n",
      "0.5236416850711281\n"
     ]
    }
   ],
   "source": [
    "print(explained_variance_score(ytest,ypredtest))\n",
    "print(explained_variance_score(ytest,nnpreds))"
   ]
  },
  {
   "cell_type": "code",
   "execution_count": 71,
   "metadata": {},
   "outputs": [
    {
     "name": "stdout",
     "output_type": "stream",
     "text": [
      "33.80013775637232\n",
      "41.40839881310096\n"
     ]
    }
   ],
   "source": [
    "print(mean_absolute_error(ytest,ypredtest))\n",
    "print(mean_absolute_error(ytest,nnpreds))"
   ]
  },
  {
   "cell_type": "code",
   "execution_count": 72,
   "metadata": {},
   "outputs": [
    {
     "name": "stdout",
     "output_type": "stream",
     "text": [
      "0.6668047457943016\n",
      "0.5171472662731584\n"
     ]
    }
   ],
   "source": [
    "print(r2_score(ytest,ypredtest))\n",
    "print(r2_score(ytest,nnpreds))"
   ]
  },
  {
   "cell_type": "code",
   "execution_count": 58,
   "metadata": {},
   "outputs": [
    {
     "data": {
      "image/png": "[encoded data removed]",
      "text/plain": [
       "<Figure size 432x288 with 1 Axes>"
      ]
     },
     "metadata": {
      "needs_background": "light"
     },
     "output_type": "display_data"
    }
   ],
   "source": [
    "sbn.distplot(list(abs(ytest-ypredtest)/ytest),axlabel='percentage difference');"
   ]
  },
  {
   "cell_type": "code",
   "execution_count": 74,
   "metadata": {},
   "outputs": [
    {
     "data": {
      "text/plain": [
       "0.27771830332693"
      ]
     },
     "execution_count": 74,
     "metadata": {},
     "output_type": "execute_result"
    }
   ],
   "source": [
    "sum(abs(ytest-ypredtest)/ytest)/len(ytest)"
   ]
  },
  {
   "cell_type": "code",
   "execution_count": 41,
   "metadata": {},
   "outputs": [
    {
     "data": {
      "text/plain": [
       "[0.3140896586052856,\n",
       " 0.24357112192123317,\n",
       " 0.19026620523267535,\n",
       " 0.014021962012346923,\n",
       " 0.00041639990728249227,\n",
       " 0.1257278444070549,\n",
       " 0.2739389389350238,\n",
       " 0.636304238139637,\n",
       " 0.0535138636764296,\n",
       " 0.05234624943683741]"
      ]
     },
     "execution_count": 41,
     "metadata": {},
     "output_type": "execute_result"
    }
   ],
   "source": [
    "list(abs(ytest-ypredtest)/ytest)[:10]"
   ]
  },
  {
   "cell_type": "code",
   "execution_count": 42,
   "metadata": {},
   "outputs": [
    {
     "data": {
      "text/plain": [
       "0.33681516253933436"
      ]
     },
     "execution_count": 42,
     "metadata": {},
     "output_type": "execute_result"
    }
   ],
   "source": [
    "sum(abs(ytest-nnpreds)/ytest)/len(ytest)"
   ]
  },
  {
   "cell_type": "code",
   "execution_count": 43,
   "metadata": {},
   "outputs": [
    {
     "data": {
      "text/plain": [
       "[(18.47435760498047, 25.127172688422846),\n",
       " (37.55180358886719, 54.559931310356234),\n",
       " (7.056434631347656, 16.172627444777405),\n",
       " (0.16009521484375, 2.36971158008663),\n",
       " (8.906455993652344, 0.03539399211901184),\n",
       " (33.48249053955078, 11.944145218670215),\n",
       " (213.57007598876953, 81.90774274157212),\n",
       " (29.62762451171875, 79.53802976745462),\n",
       " (25.05511474609375, 5.297872503966531),\n",
       " (36.13814163208008, 4.44943120213118)]"
      ]
     },
     "execution_count": 43,
     "metadata": {},
     "output_type": "execute_result"
    }
   ],
   "source": [
    "list(zip(abs(ytest-nnpreds),abs(ytest-ypredtest)))[:10]"
   ]
  },
  {
   "cell_type": "code",
   "execution_count": 47,
   "metadata": {},
   "outputs": [
    {
     "data": {
      "text/plain": [
       "[(61.525642, 80.0, 105.12717268842285),\n",
       " (186.4482, 224.0, 169.44006868964377),\n",
       " (77.943565, 85.0, 68.8273725552226),\n",
       " (169.1601, 169.0, 171.36971158008663),\n",
       " (93.906456, 85.0, 84.96460600788099),\n",
       " (61.51751, 95.0, 83.05585478132978),\n",
       " (85.429924, 299.0, 217.09225725842788),\n",
       " (154.62762, 125.0, 204.53802976745462),\n",
       " (73.944885, 99.0, 93.70212749603347),\n",
       " (48.86186, 85.0, 89.44943120213118)]"
      ]
     },
     "execution_count": 47,
     "metadata": {},
     "output_type": "execute_result"
    }
   ],
   "source": [
    "list(zip(nnpreds,ytest,ypredtest))[:10]"
   ]
  },
  {
   "cell_type": "code",
   "execution_count": null,
   "metadata": {},
   "outputs": [],
   "source": []
  }
 ],
 "metadata": {
  "kernelspec": {
   "display_name": "bnb_env",
   "language": "python",
   "name": "bnb_env"
  },
  "language_info": {
   "codemirror_mode": {
    "name": "ipython",
    "version": 3
   },
   "file_extension": ".py",
   "mimetype": "text/x-python",
   "name": "python",
   "nbconvert_exporter": "python",
   "pygments_lexer": "ipython3",
   "version": "3.7.4"
  }
 },
 "nbformat": 4,
 "nbformat_minor": 4
}
