{
 "cells": [
  {
   "cell_type": "code",
   "execution_count": 1,
   "metadata": {},
   "outputs": [],
   "source": [
    "import pandas as pd\n",
    "import numpy as np\n",
    "import nltk\n",
    "import sklearn\n",
    "import string, re\n",
    "import urllib\n",
    "from sklearn.model_selection import train_test_split, GridSearchCV\n",
    "from sklearn.preprocessing import OneHotEncoder,StandardScaler\n",
    "from sklearn.feature_extraction.text import TfidfVectorizer\n",
    "from sklearn.ensemble import RandomForestRegressor\n",
    "from nltk.corpus import stopwords"
   ]
  },
  {
   "cell_type": "code",
   "execution_count": 3,
   "metadata": {},
   "outputs": [],
   "source": [
    "april = pd.read_csv('../Data/2018/listings42018sum.csv')\n",
    "may = pd.read_csv('../Data/2018/listings52018sum.csv')\n",
    "july = pd.read_csv('../Data/2018/listings72018sum.csv')\n",
    "august = pd.read_csv('../Data/2018/listings82018sum.csv')\n",
    "september = pd.read_csv('../Data/2018/listings92018sum.csv')\n",
    "october = pd.read_csv('../Data/2018/listings102018sum.csv')\n",
    "november = pd.read_csv('../Data/2018/listings112018sum.csv')\n",
    "december = pd.read_csv('../Data/2018/listings122018sum.csv')"
   ]
  },
  {
   "cell_type": "code",
   "execution_count": null,
   "metadata": {},
   "outputs": [],
   "source": []
  }
 ],
 "metadata": {
  "kernelspec": {
   "display_name": "Python 3",
   "language": "python",
   "name": "python3"
  },
  "language_info": {
   "codemirror_mode": {
    "name": "ipython",
    "version": 3
   },
   "file_extension": ".py",
   "mimetype": "text/x-python",
   "name": "python",
   "nbconvert_exporter": "python",
   "pygments_lexer": "ipython3",
   "version": "3.7.4"
  }
 },
 "nbformat": 4,
 "nbformat_minor": 4
}
